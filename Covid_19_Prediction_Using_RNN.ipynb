{
  "nbformat": 4,
  "nbformat_minor": 0,
  "metadata": {
    "colab": {
      "name": "Covid-19-Prediction-Using-RNN.ipynb",
      "provenance": [],
      "collapsed_sections": [],
      "toc_visible": true
    },
    "kernelspec": {
      "name": "python3",
      "display_name": "Python 3"
    }
  },
  "cells": [
    {
      "cell_type": "markdown",
      "metadata": {
        "id": "ETVjl9v756Ze",
        "colab_type": "text"
      },
      "source": [
        "# Installing the [Kaggle API](https://github.com/Kaggle/kaggle-api) in Colab"
      ]
    },
    {
      "cell_type": "code",
      "metadata": {
        "id": "WaiePRMg4qu0",
        "colab_type": "code",
        "colab": {
          "base_uri": "https://localhost:8080/",
          "height": 239
        },
        "outputId": "43531268-a73f-4f2c-ad2f-0685019793da"
      },
      "source": [
        "!pip install kaggle"
      ],
      "execution_count": null,
      "outputs": [
        {
          "output_type": "stream",
          "text": [
            "Requirement already satisfied: kaggle in /usr/local/lib/python3.6/dist-packages (1.5.6)\n",
            "Requirement already satisfied: python-slugify in /usr/local/lib/python3.6/dist-packages (from kaggle) (4.0.1)\n",
            "Requirement already satisfied: six>=1.10 in /usr/local/lib/python3.6/dist-packages (from kaggle) (1.15.0)\n",
            "Requirement already satisfied: requests in /usr/local/lib/python3.6/dist-packages (from kaggle) (2.23.0)\n",
            "Requirement already satisfied: certifi in /usr/local/lib/python3.6/dist-packages (from kaggle) (2020.6.20)\n",
            "Requirement already satisfied: tqdm in /usr/local/lib/python3.6/dist-packages (from kaggle) (4.41.1)\n",
            "Requirement already satisfied: urllib3<1.25,>=1.21.1 in /usr/local/lib/python3.6/dist-packages (from kaggle) (1.24.3)\n",
            "Requirement already satisfied: python-dateutil in /usr/local/lib/python3.6/dist-packages (from kaggle) (2.8.1)\n",
            "Requirement already satisfied: text-unidecode>=1.3 in /usr/local/lib/python3.6/dist-packages (from python-slugify->kaggle) (1.3)\n",
            "Requirement already satisfied: chardet<4,>=3.0.2 in /usr/local/lib/python3.6/dist-packages (from requests->kaggle) (3.0.4)\n",
            "Requirement already satisfied: idna<3,>=2.5 in /usr/local/lib/python3.6/dist-packages (from requests->kaggle) (2.10)\n"
          ],
          "name": "stdout"
        }
      ]
    },
    {
      "cell_type": "markdown",
      "metadata": {
        "id": "afg5m2NF5_R9",
        "colab_type": "text"
      },
      "source": [
        "# Authenticating with Kaggle using kaggle.json\n",
        "\n",
        "Navigate to https://www.kaggle.com. Then go to the [Account tab of your user profile](https://www.kaggle.com/me/account) and select Create API Token. This will trigger the download of kaggle.json, a file containing your API credentials.\n",
        "\n",
        "Then run the cell below to upload kaggle.json to your Colab runtime."
      ]
    },
    {
      "cell_type": "code",
      "metadata": {
        "id": "_ihSkTgR5K45",
        "colab_type": "code",
        "colab": {
          "resources": {
            "http://localhost:8080/nbextensions/google.colab/files.js": {
              "data": "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",
              "ok": true,
              "headers": [
                [
                  "content-type",
                  "application/javascript"
                ]
              ],
              "status": 200,
              "status_text": "OK"
            }
          },
          "base_uri": "https://localhost:8080/",
          "height": 93
        },
        "outputId": "1c543efa-d3b1-49fc-cc1b-25a04446d784"
      },
      "source": [
        "from google.colab import files\n",
        "\n",
        "uploaded = files.upload()\n",
        "\n",
        "for fn in uploaded.keys():\n",
        "  print('User uploaded file \"{name}\" with length {length} bytes'.format(\n",
        "      name=fn, length=len(uploaded[fn])))\n",
        "  \n",
        "# Then move kaggle.json into the folder where the API expects to find it.\n",
        "!mkdir -p ~/.kaggle/ && mv kaggle.json ~/.kaggle/ && chmod 600 ~/.kaggle/kaggle.json"
      ],
      "execution_count": null,
      "outputs": [
        {
          "output_type": "display_data",
          "data": {
            "text/html": [
              "\n",
              "     <input type=\"file\" id=\"files-15b185c6-0fec-42a0-984c-d45054613bd2\" name=\"files[]\" multiple disabled\n",
              "        style=\"border:none\" />\n",
              "     <output id=\"result-15b185c6-0fec-42a0-984c-d45054613bd2\">\n",
              "      Upload widget is only available when the cell has been executed in the\n",
              "      current browser session. Please rerun this cell to enable.\n",
              "      </output>\n",
              "      <script src=\"/nbextensions/google.colab/files.js\"></script> "
            ],
            "text/plain": [
              "<IPython.core.display.HTML object>"
            ]
          },
          "metadata": {
            "tags": []
          }
        },
        {
          "output_type": "stream",
          "text": [
            "Saving kaggle.json to kaggle.json\n",
            "User uploaded file \"kaggle.json\" with length 69 bytes\n"
          ],
          "name": "stdout"
        }
      ]
    },
    {
      "cell_type": "markdown",
      "metadata": {
        "id": "kNApZwot6DYe",
        "colab_type": "text"
      },
      "source": [
        "# Download Kaggle Covid-19 Datasets "
      ]
    },
    {
      "cell_type": "code",
      "metadata": {
        "id": "ehpFh7px3Wy5",
        "colab_type": "code",
        "colab": {
          "base_uri": "https://localhost:8080/",
          "height": 72
        },
        "outputId": "5733c79c-ba6a-4664-b8c2-5235692d70c5"
      },
      "source": [
        "# download\n",
        "!kaggle datasets download -d hendratno/covid19-indonesia"
      ],
      "execution_count": null,
      "outputs": [
        {
          "output_type": "stream",
          "text": [
            "Downloading covid19-indonesia.zip to /content\n",
            "\r  0% 0.00/130k [00:00<?, ?B/s]\n",
            "\r100% 130k/130k [00:00<00:00, 45.2MB/s]\n"
          ],
          "name": "stdout"
        }
      ]
    },
    {
      "cell_type": "code",
      "metadata": {
        "id": "bvgUrT_-MZ7P",
        "colab_type": "code",
        "colab": {
          "base_uri": "https://localhost:8080/",
          "height": 54
        },
        "outputId": "01211631-e153-40a9-bd42-1f06a4cdcbd2"
      },
      "source": [
        "# extract zip file\n",
        "!unzip covid19-indonesia.zip"
      ],
      "execution_count": null,
      "outputs": [
        {
          "output_type": "stream",
          "text": [
            "Archive:  covid19-indonesia.zip\n",
            "  inflating: covid_19_indonesia_time_series_all.csv  \n"
          ],
          "name": "stdout"
        }
      ]
    },
    {
      "cell_type": "markdown",
      "metadata": {
        "id": "8ZNpVbwj6cOp",
        "colab_type": "text"
      },
      "source": [
        "# Import Libraries\n",
        "Basic data scientist toolkit and deep learning API"
      ]
    },
    {
      "cell_type": "code",
      "metadata": {
        "id": "cJ8rW5Ph5x5r",
        "colab_type": "code",
        "colab": {
          "base_uri": "https://localhost:8080/",
          "height": 92
        },
        "outputId": "d5a32cf0-b092-4ee4-9818-9c4158fe2685"
      },
      "source": [
        "import numpy as np\n",
        "import pandas as pd\n",
        "import matplotlib.pyplot as plt\n",
        "import seaborn as sns; sns.set()\n",
        "\n",
        "import keras\n",
        "from keras import layers\n",
        "from keras.models import Sequential\n",
        "from keras.optimizers import RMSprop\n",
        "\n",
        "import math, datetime"
      ],
      "execution_count": null,
      "outputs": [
        {
          "output_type": "stream",
          "text": [
            "/usr/local/lib/python3.6/dist-packages/statsmodels/tools/_testing.py:19: FutureWarning: pandas.util.testing is deprecated. Use the functions in the public API at pandas.testing instead.\n",
            "  import pandas.util.testing as tm\n",
            "Using TensorFlow backend.\n"
          ],
          "name": "stderr"
        }
      ]
    },
    {
      "cell_type": "markdown",
      "metadata": {
        "id": "AcNBNkut68Tl",
        "colab_type": "text"
      },
      "source": [
        "# Load Datasets"
      ]
    },
    {
      "cell_type": "code",
      "metadata": {
        "id": "5Ftr2KDL66DO",
        "colab_type": "code",
        "colab": {
          "base_uri": "https://localhost:8080/",
          "height": 687
        },
        "outputId": "779627ca-1702-444c-86e0-3ecd59e69338"
      },
      "source": [
        "covid19 = pd.read_csv(\"covid_19_indonesia_time_series_all.csv\", parse_dates=True)\n",
        "covid19"
      ],
      "execution_count": null,
      "outputs": [
        {
          "output_type": "execute_result",
          "data": {
            "text/html": [
              "<div>\n",
              "<style scoped>\n",
              "    .dataframe tbody tr th:only-of-type {\n",
              "        vertical-align: middle;\n",
              "    }\n",
              "\n",
              "    .dataframe tbody tr th {\n",
              "        vertical-align: top;\n",
              "    }\n",
              "\n",
              "    .dataframe thead th {\n",
              "        text-align: right;\n",
              "    }\n",
              "</style>\n",
              "<table border=\"1\" class=\"dataframe\">\n",
              "  <thead>\n",
              "    <tr style=\"text-align: right;\">\n",
              "      <th></th>\n",
              "      <th>Date</th>\n",
              "      <th>Location ISO Code</th>\n",
              "      <th>Location</th>\n",
              "      <th>New Cases</th>\n",
              "      <th>New Deaths</th>\n",
              "      <th>New Recovered</th>\n",
              "      <th>New Active Cases</th>\n",
              "      <th>Total Cases</th>\n",
              "      <th>Total Deaths</th>\n",
              "      <th>Total Recovered</th>\n",
              "      <th>Total Active Cases</th>\n",
              "      <th>Location Level</th>\n",
              "      <th>City or Regency</th>\n",
              "      <th>Province</th>\n",
              "      <th>Country</th>\n",
              "      <th>Continent</th>\n",
              "      <th>Island</th>\n",
              "      <th>Time Zone</th>\n",
              "      <th>Special Status</th>\n",
              "      <th>Total Regencies</th>\n",
              "      <th>Total Cities</th>\n",
              "      <th>Total Districts</th>\n",
              "      <th>Total Urban Villages</th>\n",
              "      <th>Total Rural Villages</th>\n",
              "      <th>Area (km2)</th>\n",
              "      <th>Population</th>\n",
              "      <th>Population Density</th>\n",
              "      <th>Longitude</th>\n",
              "      <th>Latitude</th>\n",
              "      <th>New Cases per Million</th>\n",
              "      <th>Total Cases per Million</th>\n",
              "      <th>New Deaths per Million</th>\n",
              "      <th>Total Deaths per Million</th>\n",
              "      <th>Case Fatality Rate</th>\n",
              "      <th>Case Recovered Rate</th>\n",
              "      <th>Growth Factor of New Cases</th>\n",
              "      <th>Growth Factor of New Deaths</th>\n",
              "    </tr>\n",
              "  </thead>\n",
              "  <tbody>\n",
              "    <tr>\n",
              "      <th>0</th>\n",
              "      <td>3/1/2020</td>\n",
              "      <td>ID-JK</td>\n",
              "      <td>DKI Jakarta</td>\n",
              "      <td>3</td>\n",
              "      <td>0</td>\n",
              "      <td>0</td>\n",
              "      <td>3</td>\n",
              "      <td>501</td>\n",
              "      <td>20</td>\n",
              "      <td>39</td>\n",
              "      <td>442</td>\n",
              "      <td>Province</td>\n",
              "      <td>NaN</td>\n",
              "      <td>DKI Jakarta</td>\n",
              "      <td>Indonesia</td>\n",
              "      <td>Asia</td>\n",
              "      <td>Jawa</td>\n",
              "      <td>UTC+07:00</td>\n",
              "      <td>Daerah Khusus Ibu Kota</td>\n",
              "      <td>1</td>\n",
              "      <td>5.0</td>\n",
              "      <td>44</td>\n",
              "      <td>267.0</td>\n",
              "      <td>NaN</td>\n",
              "      <td>664</td>\n",
              "      <td>10846145</td>\n",
              "      <td>16334.31</td>\n",
              "      <td>106.836118</td>\n",
              "      <td>-6.204699</td>\n",
              "      <td>0.28</td>\n",
              "      <td>46.19</td>\n",
              "      <td>0.00</td>\n",
              "      <td>1.84</td>\n",
              "      <td>3.99%</td>\n",
              "      <td>7.78%</td>\n",
              "      <td>NaN</td>\n",
              "      <td>NaN</td>\n",
              "    </tr>\n",
              "    <tr>\n",
              "      <th>1</th>\n",
              "      <td>3/1/2020</td>\n",
              "      <td>ID-JB</td>\n",
              "      <td>Jawa Barat</td>\n",
              "      <td>3</td>\n",
              "      <td>0</td>\n",
              "      <td>0</td>\n",
              "      <td>3</td>\n",
              "      <td>3</td>\n",
              "      <td>5</td>\n",
              "      <td>4</td>\n",
              "      <td>-6</td>\n",
              "      <td>Province</td>\n",
              "      <td>NaN</td>\n",
              "      <td>Jawa Barat</td>\n",
              "      <td>Indonesia</td>\n",
              "      <td>Asia</td>\n",
              "      <td>Jawa</td>\n",
              "      <td>UTC+07:00</td>\n",
              "      <td>NaN</td>\n",
              "      <td>18</td>\n",
              "      <td>9.0</td>\n",
              "      <td>627</td>\n",
              "      <td>645.0</td>\n",
              "      <td>5312.0</td>\n",
              "      <td>35378</td>\n",
              "      <td>45161325</td>\n",
              "      <td>1276.55</td>\n",
              "      <td>107.603708</td>\n",
              "      <td>-6.920432</td>\n",
              "      <td>0.07</td>\n",
              "      <td>0.07</td>\n",
              "      <td>0.00</td>\n",
              "      <td>0.11</td>\n",
              "      <td>166.67%</td>\n",
              "      <td>133.33%</td>\n",
              "      <td>NaN</td>\n",
              "      <td>NaN</td>\n",
              "    </tr>\n",
              "    <tr>\n",
              "      <th>2</th>\n",
              "      <td>3/2/2020</td>\n",
              "      <td>ID-JK</td>\n",
              "      <td>DKI Jakarta</td>\n",
              "      <td>2</td>\n",
              "      <td>0</td>\n",
              "      <td>0</td>\n",
              "      <td>2</td>\n",
              "      <td>503</td>\n",
              "      <td>20</td>\n",
              "      <td>39</td>\n",
              "      <td>444</td>\n",
              "      <td>Province</td>\n",
              "      <td>NaN</td>\n",
              "      <td>DKI Jakarta</td>\n",
              "      <td>Indonesia</td>\n",
              "      <td>Asia</td>\n",
              "      <td>Jawa</td>\n",
              "      <td>UTC+07:00</td>\n",
              "      <td>Daerah Khusus Ibu Kota</td>\n",
              "      <td>1</td>\n",
              "      <td>5.0</td>\n",
              "      <td>44</td>\n",
              "      <td>267.0</td>\n",
              "      <td>NaN</td>\n",
              "      <td>664</td>\n",
              "      <td>10846145</td>\n",
              "      <td>16334.31</td>\n",
              "      <td>106.836118</td>\n",
              "      <td>-6.204699</td>\n",
              "      <td>0.18</td>\n",
              "      <td>46.38</td>\n",
              "      <td>0.00</td>\n",
              "      <td>1.84</td>\n",
              "      <td>3.98%</td>\n",
              "      <td>7.75%</td>\n",
              "      <td>0.67</td>\n",
              "      <td>1.0</td>\n",
              "    </tr>\n",
              "    <tr>\n",
              "      <th>3</th>\n",
              "      <td>3/2/2020</td>\n",
              "      <td>IDN</td>\n",
              "      <td>Indonesia</td>\n",
              "      <td>2</td>\n",
              "      <td>0</td>\n",
              "      <td>0</td>\n",
              "      <td>2</td>\n",
              "      <td>2</td>\n",
              "      <td>0</td>\n",
              "      <td>0</td>\n",
              "      <td>2</td>\n",
              "      <td>Country</td>\n",
              "      <td>NaN</td>\n",
              "      <td>NaN</td>\n",
              "      <td>Indonesia</td>\n",
              "      <td>Asia</td>\n",
              "      <td>NaN</td>\n",
              "      <td>NaN</td>\n",
              "      <td>NaN</td>\n",
              "      <td>416</td>\n",
              "      <td>98.0</td>\n",
              "      <td>7230</td>\n",
              "      <td>8488.0</td>\n",
              "      <td>74953.0</td>\n",
              "      <td>1916907</td>\n",
              "      <td>265185520</td>\n",
              "      <td>138.34</td>\n",
              "      <td>113.921327</td>\n",
              "      <td>-0.789275</td>\n",
              "      <td>0.01</td>\n",
              "      <td>0.01</td>\n",
              "      <td>0.00</td>\n",
              "      <td>0.00</td>\n",
              "      <td>0.00%</td>\n",
              "      <td>0.00%</td>\n",
              "      <td>NaN</td>\n",
              "      <td>NaN</td>\n",
              "    </tr>\n",
              "    <tr>\n",
              "      <th>4</th>\n",
              "      <td>3/2/2020</td>\n",
              "      <td>ID-JB</td>\n",
              "      <td>Jawa Barat</td>\n",
              "      <td>0</td>\n",
              "      <td>0</td>\n",
              "      <td>0</td>\n",
              "      <td>0</td>\n",
              "      <td>3</td>\n",
              "      <td>5</td>\n",
              "      <td>4</td>\n",
              "      <td>-6</td>\n",
              "      <td>Province</td>\n",
              "      <td>NaN</td>\n",
              "      <td>Jawa Barat</td>\n",
              "      <td>Indonesia</td>\n",
              "      <td>Asia</td>\n",
              "      <td>Jawa</td>\n",
              "      <td>UTC+07:00</td>\n",
              "      <td>NaN</td>\n",
              "      <td>18</td>\n",
              "      <td>9.0</td>\n",
              "      <td>627</td>\n",
              "      <td>645.0</td>\n",
              "      <td>5312.0</td>\n",
              "      <td>35378</td>\n",
              "      <td>45161325</td>\n",
              "      <td>1276.55</td>\n",
              "      <td>107.603708</td>\n",
              "      <td>-6.920432</td>\n",
              "      <td>0.00</td>\n",
              "      <td>0.07</td>\n",
              "      <td>0.00</td>\n",
              "      <td>0.11</td>\n",
              "      <td>166.67%</td>\n",
              "      <td>133.33%</td>\n",
              "      <td>0.00</td>\n",
              "      <td>1.0</td>\n",
              "    </tr>\n",
              "    <tr>\n",
              "      <th>...</th>\n",
              "      <td>...</td>\n",
              "      <td>...</td>\n",
              "      <td>...</td>\n",
              "      <td>...</td>\n",
              "      <td>...</td>\n",
              "      <td>...</td>\n",
              "      <td>...</td>\n",
              "      <td>...</td>\n",
              "      <td>...</td>\n",
              "      <td>...</td>\n",
              "      <td>...</td>\n",
              "      <td>...</td>\n",
              "      <td>...</td>\n",
              "      <td>...</td>\n",
              "      <td>...</td>\n",
              "      <td>...</td>\n",
              "      <td>...</td>\n",
              "      <td>...</td>\n",
              "      <td>...</td>\n",
              "      <td>...</td>\n",
              "      <td>...</td>\n",
              "      <td>...</td>\n",
              "      <td>...</td>\n",
              "      <td>...</td>\n",
              "      <td>...</td>\n",
              "      <td>...</td>\n",
              "      <td>...</td>\n",
              "      <td>...</td>\n",
              "      <td>...</td>\n",
              "      <td>...</td>\n",
              "      <td>...</td>\n",
              "      <td>...</td>\n",
              "      <td>...</td>\n",
              "      <td>...</td>\n",
              "      <td>...</td>\n",
              "      <td>...</td>\n",
              "      <td>...</td>\n",
              "    </tr>\n",
              "    <tr>\n",
              "      <th>4363</th>\n",
              "      <td>7/25/2020</td>\n",
              "      <td>ID-SG</td>\n",
              "      <td>Sulawesi Tenggara</td>\n",
              "      <td>17</td>\n",
              "      <td>0</td>\n",
              "      <td>1</td>\n",
              "      <td>16</td>\n",
              "      <td>752</td>\n",
              "      <td>13</td>\n",
              "      <td>402</td>\n",
              "      <td>337</td>\n",
              "      <td>Province</td>\n",
              "      <td>NaN</td>\n",
              "      <td>Sulawesi Tenggara</td>\n",
              "      <td>Indonesia</td>\n",
              "      <td>Asia</td>\n",
              "      <td>Sulawesi</td>\n",
              "      <td>UTC+08:00</td>\n",
              "      <td>NaN</td>\n",
              "      <td>15</td>\n",
              "      <td>2.0</td>\n",
              "      <td>219</td>\n",
              "      <td>377.0</td>\n",
              "      <td>1911.0</td>\n",
              "      <td>38068</td>\n",
              "      <td>2635461</td>\n",
              "      <td>69.23</td>\n",
              "      <td>122.070311</td>\n",
              "      <td>-4.124689</td>\n",
              "      <td>6.45</td>\n",
              "      <td>285.34</td>\n",
              "      <td>0.00</td>\n",
              "      <td>4.93</td>\n",
              "      <td>1.73%</td>\n",
              "      <td>53.46%</td>\n",
              "      <td>0.74</td>\n",
              "      <td>0.0</td>\n",
              "    </tr>\n",
              "    <tr>\n",
              "      <th>4364</th>\n",
              "      <td>7/25/2020</td>\n",
              "      <td>ID-SA</td>\n",
              "      <td>Sulawesi Utara</td>\n",
              "      <td>54</td>\n",
              "      <td>1</td>\n",
              "      <td>22</td>\n",
              "      <td>31</td>\n",
              "      <td>2216</td>\n",
              "      <td>120</td>\n",
              "      <td>1000</td>\n",
              "      <td>1096</td>\n",
              "      <td>Province</td>\n",
              "      <td>NaN</td>\n",
              "      <td>Sulawesi Utara</td>\n",
              "      <td>Indonesia</td>\n",
              "      <td>Asia</td>\n",
              "      <td>Sulawesi</td>\n",
              "      <td>UTC+08:00</td>\n",
              "      <td>NaN</td>\n",
              "      <td>11</td>\n",
              "      <td>4.0</td>\n",
              "      <td>171</td>\n",
              "      <td>332.0</td>\n",
              "      <td>1507.0</td>\n",
              "      <td>13892</td>\n",
              "      <td>2641884</td>\n",
              "      <td>190.17</td>\n",
              "      <td>124.521240</td>\n",
              "      <td>1.259638</td>\n",
              "      <td>20.44</td>\n",
              "      <td>838.80</td>\n",
              "      <td>0.38</td>\n",
              "      <td>45.42</td>\n",
              "      <td>5.42%</td>\n",
              "      <td>45.13%</td>\n",
              "      <td>1.29</td>\n",
              "      <td>NaN</td>\n",
              "    </tr>\n",
              "    <tr>\n",
              "      <th>4365</th>\n",
              "      <td>7/25/2020</td>\n",
              "      <td>ID-SB</td>\n",
              "      <td>Sumatera Barat</td>\n",
              "      <td>12</td>\n",
              "      <td>0</td>\n",
              "      <td>13</td>\n",
              "      <td>-1</td>\n",
              "      <td>863</td>\n",
              "      <td>33</td>\n",
              "      <td>727</td>\n",
              "      <td>103</td>\n",
              "      <td>Province</td>\n",
              "      <td>NaN</td>\n",
              "      <td>Sumatera Barat</td>\n",
              "      <td>Indonesia</td>\n",
              "      <td>Asia</td>\n",
              "      <td>Sumatera</td>\n",
              "      <td>UTC+07:00</td>\n",
              "      <td>NaN</td>\n",
              "      <td>12</td>\n",
              "      <td>7.0</td>\n",
              "      <td>179</td>\n",
              "      <td>230.0</td>\n",
              "      <td>928.0</td>\n",
              "      <td>42013</td>\n",
              "      <td>5519245</td>\n",
              "      <td>131.37</td>\n",
              "      <td>100.465062</td>\n",
              "      <td>-0.850253</td>\n",
              "      <td>2.17</td>\n",
              "      <td>156.36</td>\n",
              "      <td>0.00</td>\n",
              "      <td>5.98</td>\n",
              "      <td>3.82%</td>\n",
              "      <td>84.24%</td>\n",
              "      <td>4.00</td>\n",
              "      <td>1.0</td>\n",
              "    </tr>\n",
              "    <tr>\n",
              "      <th>4366</th>\n",
              "      <td>7/25/2020</td>\n",
              "      <td>ID-SS</td>\n",
              "      <td>Sumatera Selatan</td>\n",
              "      <td>17</td>\n",
              "      <td>0</td>\n",
              "      <td>29</td>\n",
              "      <td>-12</td>\n",
              "      <td>3228</td>\n",
              "      <td>147</td>\n",
              "      <td>1604</td>\n",
              "      <td>1477</td>\n",
              "      <td>Province</td>\n",
              "      <td>NaN</td>\n",
              "      <td>Sumatera Selatan</td>\n",
              "      <td>Indonesia</td>\n",
              "      <td>Asia</td>\n",
              "      <td>Sumatera</td>\n",
              "      <td>UTC+07:00</td>\n",
              "      <td>NaN</td>\n",
              "      <td>13</td>\n",
              "      <td>4.0</td>\n",
              "      <td>241</td>\n",
              "      <td>387.0</td>\n",
              "      <td>2853.0</td>\n",
              "      <td>91592</td>\n",
              "      <td>8217551</td>\n",
              "      <td>89.72</td>\n",
              "      <td>104.169465</td>\n",
              "      <td>-3.216212</td>\n",
              "      <td>2.07</td>\n",
              "      <td>392.82</td>\n",
              "      <td>0.00</td>\n",
              "      <td>17.89</td>\n",
              "      <td>4.55%</td>\n",
              "      <td>49.69%</td>\n",
              "      <td>0.37</td>\n",
              "      <td>0.0</td>\n",
              "    </tr>\n",
              "    <tr>\n",
              "      <th>4367</th>\n",
              "      <td>7/25/2020</td>\n",
              "      <td>ID-SU</td>\n",
              "      <td>Sumatera Utara</td>\n",
              "      <td>51</td>\n",
              "      <td>3</td>\n",
              "      <td>24</td>\n",
              "      <td>24</td>\n",
              "      <td>3371</td>\n",
              "      <td>175</td>\n",
              "      <td>903</td>\n",
              "      <td>2293</td>\n",
              "      <td>Province</td>\n",
              "      <td>NaN</td>\n",
              "      <td>Sumatera Utara</td>\n",
              "      <td>Indonesia</td>\n",
              "      <td>Asia</td>\n",
              "      <td>Sumatera</td>\n",
              "      <td>UTC+07:00</td>\n",
              "      <td>NaN</td>\n",
              "      <td>25</td>\n",
              "      <td>8.0</td>\n",
              "      <td>450</td>\n",
              "      <td>693.0</td>\n",
              "      <td>5417.0</td>\n",
              "      <td>72981</td>\n",
              "      <td>14874889</td>\n",
              "      <td>203.82</td>\n",
              "      <td>99.051964</td>\n",
              "      <td>2.191894</td>\n",
              "      <td>3.43</td>\n",
              "      <td>226.62</td>\n",
              "      <td>0.20</td>\n",
              "      <td>11.76</td>\n",
              "      <td>5.19%</td>\n",
              "      <td>26.79%</td>\n",
              "      <td>0.89</td>\n",
              "      <td>1.0</td>\n",
              "    </tr>\n",
              "  </tbody>\n",
              "</table>\n",
              "<p>4368 rows × 37 columns</p>\n",
              "</div>"
            ],
            "text/plain": [
              "           Date  ... Growth Factor of New Deaths\n",
              "0      3/1/2020  ...                         NaN\n",
              "1      3/1/2020  ...                         NaN\n",
              "2      3/2/2020  ...                         1.0\n",
              "3      3/2/2020  ...                         NaN\n",
              "4      3/2/2020  ...                         1.0\n",
              "...         ...  ...                         ...\n",
              "4363  7/25/2020  ...                         0.0\n",
              "4364  7/25/2020  ...                         NaN\n",
              "4365  7/25/2020  ...                         1.0\n",
              "4366  7/25/2020  ...                         0.0\n",
              "4367  7/25/2020  ...                         1.0\n",
              "\n",
              "[4368 rows x 37 columns]"
            ]
          },
          "metadata": {
            "tags": []
          },
          "execution_count": 6
        }
      ]
    },
    {
      "cell_type": "code",
      "metadata": {
        "id": "EkMUi1QqAKZe",
        "colab_type": "code",
        "colab": {
          "base_uri": "https://localhost:8080/",
          "height": 825
        },
        "outputId": "332e0c4a-6a58-443b-87fc-112db8d4329c"
      },
      "source": [
        "\n",
        "# Check missing values in datasets\n",
        "covid19.info()"
      ],
      "execution_count": null,
      "outputs": [
        {
          "output_type": "stream",
          "text": [
            "<class 'pandas.core.frame.DataFrame'>\n",
            "RangeIndex: 4368 entries, 0 to 4367\n",
            "Data columns (total 37 columns):\n",
            " #   Column                       Non-Null Count  Dtype  \n",
            "---  ------                       --------------  -----  \n",
            " 0   Date                         4368 non-null   object \n",
            " 1   Location ISO Code            4368 non-null   object \n",
            " 2   Location                     4368 non-null   object \n",
            " 3   New Cases                    4368 non-null   int64  \n",
            " 4   New Deaths                   4368 non-null   int64  \n",
            " 5   New Recovered                4368 non-null   int64  \n",
            " 6   New Active Cases             4368 non-null   int64  \n",
            " 7   Total Cases                  4368 non-null   int64  \n",
            " 8   Total Deaths                 4368 non-null   int64  \n",
            " 9   Total Recovered              4368 non-null   int64  \n",
            " 10  Total Active Cases           4368 non-null   int64  \n",
            " 11  Location Level               4368 non-null   object \n",
            " 12  City or Regency              0 non-null      float64\n",
            " 13  Province                     4222 non-null   object \n",
            " 14  Country                      4368 non-null   object \n",
            " 15  Continent                    4368 non-null   object \n",
            " 16  Island                       4222 non-null   object \n",
            " 17  Time Zone                    4222 non-null   object \n",
            " 18  Special Status               648 non-null    object \n",
            " 19  Total Regencies              4368 non-null   int64  \n",
            " 20  Total Cities                 4248 non-null   float64\n",
            " 21  Total Districts              4368 non-null   int64  \n",
            " 22  Total Urban Villages         4246 non-null   float64\n",
            " 23  Total Rural Villages         4221 non-null   float64\n",
            " 24  Area (km2)                   4368 non-null   int64  \n",
            " 25  Population                   4368 non-null   int64  \n",
            " 26  Population Density           4368 non-null   float64\n",
            " 27  Longitude                    4368 non-null   float64\n",
            " 28  Latitude                     4368 non-null   float64\n",
            " 29  New Cases per Million        4368 non-null   float64\n",
            " 30  Total Cases per Million      4368 non-null   float64\n",
            " 31  New Deaths per Million       4368 non-null   float64\n",
            " 32  Total Deaths per Million     4368 non-null   float64\n",
            " 33  Case Fatality Rate           4368 non-null   object \n",
            " 34  Case Recovered Rate          4368 non-null   object \n",
            " 35  Growth Factor of New Cases   3773 non-null   float64\n",
            " 36  Growth Factor of New Deaths  3865 non-null   float64\n",
            "dtypes: float64(13), int64(12), object(12)\n",
            "memory usage: 1.2+ MB\n"
          ],
          "name": "stdout"
        }
      ]
    },
    {
      "cell_type": "code",
      "metadata": {
        "id": "qcJn9jtc9CaI",
        "colab_type": "code",
        "colab": {
          "base_uri": "https://localhost:8080/",
          "height": 384
        },
        "outputId": "60d0399b-0cf7-4a0d-d3f4-2ed7c159962f"
      },
      "source": [
        "# Extract only date and numeric values\n",
        "timeseries = covid19[pd.Index([\"Date\"]).append(covid19.select_dtypes(\"int64\").columns)].copy()\n",
        "timeseries.info()"
      ],
      "execution_count": null,
      "outputs": [
        {
          "output_type": "stream",
          "text": [
            "<class 'pandas.core.frame.DataFrame'>\n",
            "RangeIndex: 4368 entries, 0 to 4367\n",
            "Data columns (total 13 columns):\n",
            " #   Column              Non-Null Count  Dtype \n",
            "---  ------              --------------  ----- \n",
            " 0   Date                4368 non-null   object\n",
            " 1   New Cases           4368 non-null   int64 \n",
            " 2   New Deaths          4368 non-null   int64 \n",
            " 3   New Recovered       4368 non-null   int64 \n",
            " 4   New Active Cases    4368 non-null   int64 \n",
            " 5   Total Cases         4368 non-null   int64 \n",
            " 6   Total Deaths        4368 non-null   int64 \n",
            " 7   Total Recovered     4368 non-null   int64 \n",
            " 8   Total Active Cases  4368 non-null   int64 \n",
            " 9   Total Regencies     4368 non-null   int64 \n",
            " 10  Total Districts     4368 non-null   int64 \n",
            " 11  Area (km2)          4368 non-null   int64 \n",
            " 12  Population          4368 non-null   int64 \n",
            "dtypes: int64(12), object(1)\n",
            "memory usage: 443.8+ KB\n"
          ],
          "name": "stdout"
        }
      ]
    },
    {
      "cell_type": "markdown",
      "metadata": {
        "id": "_Rz7Qxcr-5uZ",
        "colab_type": "text"
      },
      "source": [
        "# Resample DataFrame into daily\n",
        "The data itself has daily timeframe, but it separated by the location resulting in multiple rows with same date. We need to resample it back into a single daily"
      ]
    },
    {
      "cell_type": "code",
      "metadata": {
        "id": "qWJ70NFR9wi9",
        "colab_type": "code",
        "colab": {}
      },
      "source": [
        "# Convert Date column to DateTimeIndex\n",
        "timeseries[\"Date\"] = pd.to_datetime(timeseries[\"Date\"])\n",
        "\n",
        "# Convert Date column to Index\n",
        "timeseries.set_index(\"Date\", inplace=True)"
      ],
      "execution_count": null,
      "outputs": []
    },
    {
      "cell_type": "code",
      "metadata": {
        "id": "Jr5exys-B6lp",
        "colab_type": "code",
        "colab": {
          "base_uri": "https://localhost:8080/",
          "height": 292
        },
        "outputId": "fbc60b46-d27c-4851-f370-7f03357a6c4c"
      },
      "source": [
        "resampled = timeseries.resample(\"1D\").max()\n",
        "\n",
        "# Create new Date column\n",
        "resampled[\"Date\"] = resampled.index\n",
        "\n",
        "resampled.tail()"
      ],
      "execution_count": null,
      "outputs": [
        {
          "output_type": "execute_result",
          "data": {
            "text/html": [
              "<div>\n",
              "<style scoped>\n",
              "    .dataframe tbody tr th:only-of-type {\n",
              "        vertical-align: middle;\n",
              "    }\n",
              "\n",
              "    .dataframe tbody tr th {\n",
              "        vertical-align: top;\n",
              "    }\n",
              "\n",
              "    .dataframe thead th {\n",
              "        text-align: right;\n",
              "    }\n",
              "</style>\n",
              "<table border=\"1\" class=\"dataframe\">\n",
              "  <thead>\n",
              "    <tr style=\"text-align: right;\">\n",
              "      <th></th>\n",
              "      <th>New Cases</th>\n",
              "      <th>New Deaths</th>\n",
              "      <th>New Recovered</th>\n",
              "      <th>New Active Cases</th>\n",
              "      <th>Total Cases</th>\n",
              "      <th>Total Deaths</th>\n",
              "      <th>Total Recovered</th>\n",
              "      <th>Total Active Cases</th>\n",
              "      <th>Total Regencies</th>\n",
              "      <th>Total Districts</th>\n",
              "      <th>Area (km2)</th>\n",
              "      <th>Population</th>\n",
              "      <th>Date</th>\n",
              "    </tr>\n",
              "    <tr>\n",
              "      <th>Date</th>\n",
              "      <th></th>\n",
              "      <th></th>\n",
              "      <th></th>\n",
              "      <th></th>\n",
              "      <th></th>\n",
              "      <th></th>\n",
              "      <th></th>\n",
              "      <th></th>\n",
              "      <th></th>\n",
              "      <th></th>\n",
              "      <th></th>\n",
              "      <th></th>\n",
              "      <th></th>\n",
              "    </tr>\n",
              "  </thead>\n",
              "  <tbody>\n",
              "    <tr>\n",
              "      <th>2020-07-21</th>\n",
              "      <td>1655</td>\n",
              "      <td>81</td>\n",
              "      <td>1489</td>\n",
              "      <td>159</td>\n",
              "      <td>89869</td>\n",
              "      <td>4320</td>\n",
              "      <td>48466</td>\n",
              "      <td>37083</td>\n",
              "      <td>416</td>\n",
              "      <td>7230</td>\n",
              "      <td>1916907</td>\n",
              "      <td>265185520</td>\n",
              "      <td>2020-07-21</td>\n",
              "    </tr>\n",
              "    <tr>\n",
              "      <th>2020-07-22</th>\n",
              "      <td>1882</td>\n",
              "      <td>139</td>\n",
              "      <td>1789</td>\n",
              "      <td>136</td>\n",
              "      <td>91751</td>\n",
              "      <td>4459</td>\n",
              "      <td>50255</td>\n",
              "      <td>37037</td>\n",
              "      <td>416</td>\n",
              "      <td>7230</td>\n",
              "      <td>1916907</td>\n",
              "      <td>265185520</td>\n",
              "      <td>2020-07-22</td>\n",
              "    </tr>\n",
              "    <tr>\n",
              "      <th>2020-07-23</th>\n",
              "      <td>1906</td>\n",
              "      <td>117</td>\n",
              "      <td>1909</td>\n",
              "      <td>305</td>\n",
              "      <td>93657</td>\n",
              "      <td>4576</td>\n",
              "      <td>52164</td>\n",
              "      <td>36917</td>\n",
              "      <td>416</td>\n",
              "      <td>7230</td>\n",
              "      <td>1916907</td>\n",
              "      <td>265185520</td>\n",
              "      <td>2020-07-23</td>\n",
              "    </tr>\n",
              "    <tr>\n",
              "      <th>2020-07-24</th>\n",
              "      <td>1761</td>\n",
              "      <td>89</td>\n",
              "      <td>1781</td>\n",
              "      <td>72</td>\n",
              "      <td>95418</td>\n",
              "      <td>4665</td>\n",
              "      <td>53945</td>\n",
              "      <td>36808</td>\n",
              "      <td>416</td>\n",
              "      <td>7230</td>\n",
              "      <td>1916907</td>\n",
              "      <td>265185520</td>\n",
              "      <td>2020-07-24</td>\n",
              "    </tr>\n",
              "    <tr>\n",
              "      <th>2020-07-25</th>\n",
              "      <td>1868</td>\n",
              "      <td>49</td>\n",
              "      <td>1409</td>\n",
              "      <td>410</td>\n",
              "      <td>97286</td>\n",
              "      <td>4714</td>\n",
              "      <td>55354</td>\n",
              "      <td>37218</td>\n",
              "      <td>416</td>\n",
              "      <td>7230</td>\n",
              "      <td>1916907</td>\n",
              "      <td>265185520</td>\n",
              "      <td>2020-07-25</td>\n",
              "    </tr>\n",
              "  </tbody>\n",
              "</table>\n",
              "</div>"
            ],
            "text/plain": [
              "            New Cases  New Deaths  ...  Population       Date\n",
              "Date                               ...                       \n",
              "2020-07-21       1655          81  ...   265185520 2020-07-21\n",
              "2020-07-22       1882         139  ...   265185520 2020-07-22\n",
              "2020-07-23       1906         117  ...   265185520 2020-07-23\n",
              "2020-07-24       1761          89  ...   265185520 2020-07-24\n",
              "2020-07-25       1868          49  ...   265185520 2020-07-25\n",
              "\n",
              "[5 rows x 13 columns]"
            ]
          },
          "metadata": {
            "tags": []
          },
          "execution_count": 10
        }
      ]
    },
    {
      "cell_type": "markdown",
      "metadata": {
        "id": "0FK1NZDoCtDs",
        "colab_type": "text"
      },
      "source": [
        "# Plot Total Cases Data\n",
        "Explore information that the data yield. This is important to understand patterns in data."
      ]
    },
    {
      "cell_type": "code",
      "metadata": {
        "id": "1VgLqcP6NkJk",
        "colab_type": "code",
        "colab": {
          "base_uri": "https://localhost:8080/",
          "height": 72
        },
        "outputId": "feb2cb0b-4ce4-4d8c-f079-1efa7227cc88"
      },
      "source": [
        "from collections import namedtuple\n",
        "\n",
        "# Create a list of namedtuples\n",
        "Plot = namedtuple(\"Plot\", \"Parameter Color\")\n",
        "features = [\"Total Cases\", \"Total Recovered\",  \"Total Deaths\"]\n",
        "colors = [\"tomato\", \"lightgreen\", \"indigo\"]\n",
        "\n",
        "info = [Plot(feature, color) for feature, color in zip(features, colors)]\n",
        "info"
      ],
      "execution_count": null,
      "outputs": [
        {
          "output_type": "execute_result",
          "data": {
            "text/plain": [
              "[Plot(Parameter='Total Cases', Color='tomato'),\n",
              " Plot(Parameter='Total Recovered', Color='lightgreen'),\n",
              " Plot(Parameter='Total Deaths', Color='indigo')]"
            ]
          },
          "metadata": {
            "tags": []
          },
          "execution_count": 11
        }
      ]
    },
    {
      "cell_type": "code",
      "metadata": {
        "id": "7NIym_FPBiQ7",
        "colab_type": "code",
        "colab": {
          "base_uri": "https://localhost:8080/",
          "height": 506
        },
        "outputId": "85516e70-03cc-415f-cc4a-3430ade27488"
      },
      "source": [
        "plt.figure(figsize=(8, 8))\n",
        "plt.title(\"COVID-19 Measures in Indonesia\", fontdict={\"size\": 20})\n",
        "\n",
        "# plot data\n",
        "for parameter, color in info:\n",
        "  plt.fill_between(resampled[\"Date\"], resampled[parameter], \n",
        "                   color=color, label=parameter.split()[1])\n",
        "\n",
        "# legends\n",
        "plt.legend(bbox_to_anchor=(1.05, 1), loc=2);"
      ],
      "execution_count": null,
      "outputs": [
        {
          "output_type": "display_data",
          "data": {
            "image/png": "[encoded data removed]",
            "text/plain": [
              "<Figure size 576x576 with 1 Axes>"
            ]
          },
          "metadata": {
            "tags": []
          }
        }
      ]
    },
    {
      "cell_type": "markdown",
      "metadata": {
        "id": "WnDv2biTUYbe",
        "colab_type": "text"
      },
      "source": [
        "# Preparing Data\n",
        "Before we put our data into deep learning model, we need to specify what samples and targets that we gonna use.\n",
        "\n",
        "- Samples are timeseries data which is 3D Tensor containing samples, timesteps and features.\n",
        "\n",
        "- Target is 1D vector of future cases.\n",
        "\n",
        "Then, the data need to be formated so that neural network can digest."
      ]
    },
    {
      "cell_type": "markdown",
      "metadata": {
        "id": "RJJtnCg-bw-_",
        "colab_type": "text"
      },
      "source": [
        "## Feature Extraction\n",
        "There are many features that we can get, but I need only 1 feature: Current total cases"
      ]
    },
    {
      "cell_type": "code",
      "metadata": {
        "id": "rOystE93UYyw",
        "colab_type": "code",
        "colab": {
          "base_uri": "https://localhost:8080/",
          "height": 35
        },
        "outputId": "3a505085-923f-4f6c-9f3c-6826a0ac15b1"
      },
      "source": [
        "# Features are cases, deaths and recovered\n",
        "data = resampled[\"Total Cases\"].copy()\n",
        "data.shape"
      ],
      "execution_count": null,
      "outputs": [
        {
          "output_type": "execute_result",
          "data": {
            "text/plain": [
              "(147,)"
            ]
          },
          "metadata": {
            "tags": []
          },
          "execution_count": 13
        }
      ]
    },
    {
      "cell_type": "markdown",
      "metadata": {
        "id": "1txTpLHdbTWU",
        "colab_type": "text"
      },
      "source": [
        "## Problem Formulation for Predicting Future Cases\n",
        "Before commiting time series prediction, we need to specify how far the future value that'll be forecasted from the current time.\n",
        "\n",
        "In this session, try predicting how many total cases on the next day, using these 3 variables:"
      ]
    },
    {
      "cell_type": "code",
      "metadata": {
        "id": "R1uzMAxmbP1F",
        "colab_type": "code",
        "colab": {}
      },
      "source": [
        "lookback = 1 # Observation will go back 1 day\n",
        "steps = 1 # Observation will be sampled at one data point per day\n",
        "delay = 1 # Targets will be 1 day in the future"
      ],
      "execution_count": null,
      "outputs": []
    },
    {
      "cell_type": "markdown",
      "metadata": {
        "id": "145BWUBbbpZf",
        "colab_type": "text"
      },
      "source": [
        "## Normalizing Data\n",
        "We'll normalize our data to a format which neural network can digest. \n",
        "\n",
        "Your whole training data length is N - lookback - 2, leaving the 2 remainders of data for validating and testing.\n",
        "\n",
        "***Note: We use the values from training data to perform scaling in order to avoid data leakage.***"
      ]
    },
    {
      "cell_type": "code",
      "metadata": {
        "id": "9Tj5pQMkfKmf",
        "colab_type": "code",
        "colab": {}
      },
      "source": [
        "# Use training data to scale validation data\n",
        "mean = data[:lookback - 2].mean(axis=0)\n",
        "std = data[:lookback - 2].std(axis=0)\n",
        "\n",
        "# Function to normalize data\n",
        "def normalize(data, mean, std):\n",
        "    data -= mean\n",
        "    data /= std\n",
        "    return data\n",
        "\n",
        "data = normalize(data, mean, std)"
      ],
      "execution_count": null,
      "outputs": []
    },
    {
      "cell_type": "code",
      "metadata": {
        "id": "SSCGp0T6bnRF",
        "colab_type": "code",
        "colab": {}
      },
      "source": [
        "def generate_data(data, lookback, delay, steps=1):\n",
        "    length = len(data) - max(lookback, delay)\n",
        "\n",
        "    samples = np.zeros(shape=(length, lookback // steps, data.shape[-1]))\n",
        "    targets = np.zeros(shape=(length,))\n",
        "\n",
        "    for i in range(length):\n",
        "        samples[i] = data[i]\n",
        "        targets[i] = data[i + delay]\n",
        "\n",
        "    return samples, targets\n",
        "\n",
        "# Convert data frame to numpy\n",
        "npdata = data.to_numpy()\n",
        "if len(npdata.shape) == 1:\n",
        "    npdata = npdata.reshape(-1, 1)\n",
        "    \n",
        "samples, targets = generate_data(npdata, lookback, delay, steps)"
      ],
      "execution_count": null,
      "outputs": []
    },
    {
      "cell_type": "markdown",
      "metadata": {
        "id": "-AtjczFd4N6M",
        "colab_type": "text"
      },
      "source": [
        "## Split Data\n",
        "We used all of the data for training except the last 2 index for validating and testing."
      ]
    },
    {
      "cell_type": "code",
      "metadata": {
        "id": "aT9gZRA04LyK",
        "colab_type": "code",
        "colab": {}
      },
      "source": [
        "# Extract training data, the rest is for validation and test\n",
        "train_x, train_y = samples[:-2], targets[:-2]\n",
        "\n",
        "# Split validation data and test data\n",
        "valid_x, valid_y = samples[-2:-1], targets[-2:-1]\n",
        "test_x, test_y = samples[-1:], targets[-1:]"
      ],
      "execution_count": null,
      "outputs": []
    },
    {
      "cell_type": "markdown",
      "metadata": {
        "id": "HNKz4WCNhuAB",
        "colab_type": "text"
      },
      "source": [
        "# Building Simple Machine Learning Model\n",
        "Before using a computationally expensive models like RNN, it is advised to use simple and cheap machine learning model like a small densely connected network.\n",
        "\n",
        "This'll ensure how important any further more complex approach is and will deliver real benefits."
      ]
    },
    {
      "cell_type": "code",
      "metadata": {
        "id": "K0QQxY-_hw49",
        "colab_type": "code",
        "colab": {
          "base_uri": "https://localhost:8080/",
          "height": 274
        },
        "outputId": "873434ef-9428-4822-9990-d04d68ca1e8c"
      },
      "source": [
        "model = Sequential()\n",
        "model.add(layers.Flatten(input_shape=(steps, samples.shape[-1])))\n",
        "model.add(layers.Dense(32, input_shape=(steps, samples.shape[-1])))\n",
        "model.add(layers.Dense(1))\n",
        "\n",
        "model.summary()"
      ],
      "execution_count": null,
      "outputs": [
        {
          "output_type": "stream",
          "text": [
            "Model: \"sequential_1\"\n",
            "_________________________________________________________________\n",
            "Layer (type)                 Output Shape              Param #   \n",
            "=================================================================\n",
            "flatten_1 (Flatten)          (None, 1)                 0         \n",
            "_________________________________________________________________\n",
            "dense_1 (Dense)              (None, 32)                64        \n",
            "_________________________________________________________________\n",
            "dense_2 (Dense)              (None, 1)                 33        \n",
            "=================================================================\n",
            "Total params: 97\n",
            "Trainable params: 97\n",
            "Non-trainable params: 0\n",
            "_________________________________________________________________\n"
          ],
          "name": "stdout"
        }
      ]
    },
    {
      "cell_type": "code",
      "metadata": {
        "id": "Wx2g4Y7jl7wU",
        "colab_type": "code",
        "colab": {}
      },
      "source": [
        "# Model Checkpoint and Early Stopping\n",
        "# Automatically stop training process when there was no improvement on val_loss\n",
        "callbacks_list = [\n",
        "                  keras.callbacks.EarlyStopping(\n",
        "                      monitor=\"val_loss\",\n",
        "                      patience=1\n",
        "                  ),\n",
        "                  keras.callbacks.ModelCheckpoint(\n",
        "                      filepath=\"good_model.h5\",\n",
        "                      monitor=\"val_loss\",\n",
        "                      save_best_only=True\n",
        "                  )\n",
        "]"
      ],
      "execution_count": null,
      "outputs": []
    },
    {
      "cell_type": "code",
      "metadata": {
        "id": "8At6c98Tijeo",
        "colab_type": "code",
        "colab": {
          "base_uri": "https://localhost:8080/",
          "height": 439
        },
        "outputId": "2b242a2b-087e-4b35-f3ed-b48030c14661"
      },
      "source": [
        "model.compile(optimizer=\"rmsprop\", loss=\"mae\")\n",
        "\n",
        "history = model.fit(train_x, train_y, \n",
        "                    epochs=100,\n",
        "                    batch_size=16,\n",
        "                    callbacks=callbacks_list,\n",
        "                    validation_data=(valid_x, valid_y)\n",
        "                )"
      ],
      "execution_count": null,
      "outputs": [
        {
          "output_type": "stream",
          "text": [
            "Train on 144 samples, validate on 1 samples\n",
            "Epoch 1/100\n",
            "144/144 [==============================] - 0s 2ms/step - loss: 0.7881 - val_loss: 2.3700\n",
            "Epoch 2/100\n",
            "144/144 [==============================] - 0s 107us/step - loss: 0.6529 - val_loss: 2.1107\n",
            "Epoch 3/100\n",
            "144/144 [==============================] - 0s 111us/step - loss: 0.5536 - val_loss: 1.8526\n",
            "Epoch 4/100\n",
            "144/144 [==============================] - 0s 104us/step - loss: 0.4626 - val_loss: 1.5797\n",
            "Epoch 5/100\n",
            "144/144 [==============================] - 0s 120us/step - loss: 0.3790 - val_loss: 1.2960\n",
            "Epoch 6/100\n",
            "144/144 [==============================] - 0s 101us/step - loss: 0.2967 - val_loss: 1.0012\n",
            "Epoch 7/100\n",
            "144/144 [==============================] - 0s 94us/step - loss: 0.2161 - val_loss: 0.6726\n",
            "Epoch 8/100\n",
            "144/144 [==============================] - 0s 99us/step - loss: 0.1350 - val_loss: 0.3418\n",
            "Epoch 9/100\n",
            "144/144 [==============================] - 0s 103us/step - loss: 0.0538 - val_loss: 0.0295\n",
            "Epoch 10/100\n",
            "144/144 [==============================] - 0s 101us/step - loss: 0.0086 - val_loss: 0.0068\n",
            "Epoch 11/100\n",
            "144/144 [==============================] - 0s 103us/step - loss: 0.0085 - val_loss: 0.0251\n"
          ],
          "name": "stdout"
        }
      ]
    },
    {
      "cell_type": "code",
      "metadata": {
        "id": "pLKgvksYOXsV",
        "colab_type": "code",
        "colab": {
          "base_uri": "https://localhost:8080/",
          "height": 431
        },
        "outputId": "8eebe82d-f6db-4497-da0c-612bb9dfcc19"
      },
      "source": [
        "# Plot training and validation loss\n",
        "loss = history.history[\"loss\"]\n",
        "val_loss = history.history[\"val_loss\"]\n",
        "epochs = range(1, len(loss) + 1)\n",
        "\n",
        "plt.figure(figsize=(7, 7))\n",
        "plt.plot(epochs, loss, label=\"Training loss\")\n",
        "plt.plot(epochs, val_loss, \"r\", label=\"Validation loss\")\n",
        "plt.legend();"
      ],
      "execution_count": null,
      "outputs": [
        {
          "output_type": "display_data",
          "data": {
            "image/png": "[encoded data removed]",
            "text/plain": [
              "<Figure size 504x504 with 1 Axes>"
            ]
          },
          "metadata": {
            "tags": []
          }
        }
      ]
    },
    {
      "cell_type": "code",
      "metadata": {
        "id": "3PtQjqqs6By3",
        "colab_type": "code",
        "colab": {
          "base_uri": "https://localhost:8080/",
          "height": 54
        },
        "outputId": "9c005a61-3720-48f8-d19b-ade9eb008623"
      },
      "source": [
        "eval_loss = model.evaluate(test_x, test_y)\n",
        "eval_loss"
      ],
      "execution_count": null,
      "outputs": [
        {
          "output_type": "stream",
          "text": [
            "\r1/1 [==============================] - 0s 1ms/step\n"
          ],
          "name": "stdout"
        },
        {
          "output_type": "execute_result",
          "data": {
            "text/plain": [
              "0.02301764488220215"
            ]
          },
          "metadata": {
            "tags": []
          },
          "execution_count": 22
        }
      ]
    },
    {
      "cell_type": "code",
      "metadata": {
        "id": "XCMPAuRgFvTu",
        "colab_type": "code",
        "colab": {
          "base_uri": "https://localhost:8080/",
          "height": 35
        },
        "outputId": "1b51f488-3599-4745-b142-73f3cfa0c2fe"
      },
      "source": [
        "# Denormalize mae to actual value\n",
        "cases_mae = eval_loss * std\n",
        "cases_mae"
      ],
      "execution_count": null,
      "outputs": [
        {
          "output_type": "execute_result",
          "data": {
            "text/plain": [
              "627.046329391872"
            ]
          },
          "metadata": {
            "tags": []
          },
          "execution_count": 23
        }
      ]
    },
    {
      "cell_type": "markdown",
      "metadata": {
        "id": "IgTgOQ3oKmR6",
        "colab_type": "text"
      },
      "source": [
        "***Estimation error here is 632 (may differ with your result), which is  high for estimating future cases, hence we need more complex and powerful model to handle sequential data***"
      ]
    },
    {
      "cell_type": "markdown",
      "metadata": {
        "id": "fUmNN4_lNKLY",
        "colab_type": "text"
      },
      "source": [
        "# Switching to Recurrent Neural Network"
      ]
    },
    {
      "cell_type": "code",
      "metadata": {
        "id": "IslkBnwuKy56",
        "colab_type": "code",
        "colab": {
          "base_uri": "https://localhost:8080/",
          "height": 274
        },
        "outputId": "56662a85-63a9-4c4c-cb46-06b766691f5c"
      },
      "source": [
        "strong_model = Sequential()\n",
        "strong_model.add(layers.LSTM(32, return_sequences=True, \n",
        "                             input_shape=(None, samples.shape[-1]),))\n",
        "strong_model.add(layers.LSTM(16))\n",
        "strong_model.add(layers.Dense(1))\n",
        "\n",
        "strong_model.summary()"
      ],
      "execution_count": null,
      "outputs": [
        {
          "output_type": "stream",
          "text": [
            "Model: \"sequential_2\"\n",
            "_________________________________________________________________\n",
            "Layer (type)                 Output Shape              Param #   \n",
            "=================================================================\n",
            "lstm_1 (LSTM)                (None, None, 32)          4352      \n",
            "_________________________________________________________________\n",
            "lstm_2 (LSTM)                (None, 16)                3136      \n",
            "_________________________________________________________________\n",
            "dense_3 (Dense)              (None, 1)                 17        \n",
            "=================================================================\n",
            "Total params: 7,505\n",
            "Trainable params: 7,505\n",
            "Non-trainable params: 0\n",
            "_________________________________________________________________\n"
          ],
          "name": "stdout"
        }
      ]
    },
    {
      "cell_type": "code",
      "metadata": {
        "id": "p38tq-aHuPYP",
        "colab_type": "code",
        "colab": {}
      },
      "source": [
        "# Model Checkpoint and Early Stopping\n",
        "callbacks_list = [\n",
        "                  keras.callbacks.EarlyStopping(\n",
        "                      monitor=\"val_loss\",\n",
        "                      patience=10\n",
        "                  ),\n",
        "                  keras.callbacks.ModelCheckpoint(\n",
        "                      filepath=\"strong_model.h5\",\n",
        "                      monitor=\"val_loss\",\n",
        "                      save_best_only=True\n",
        "                  )\n",
        "]"
      ],
      "execution_count": null,
      "outputs": []
    },
    {
      "cell_type": "code",
      "metadata": {
        "id": "QEylc0WmOK6F",
        "colab_type": "code",
        "colab": {
          "base_uri": "https://localhost:8080/",
          "height": 990
        },
        "outputId": "53d6c74e-7817-42bf-c16d-921415422b2c"
      },
      "source": [
        "strong_model.compile(optimizer=\"rmsprop\", loss=\"mae\")\n",
        "\n",
        "history = strong_model.fit(train_x, train_y, \n",
        "                            epochs=100,\n",
        "                            batch_size=1,\n",
        "                            callbacks=callbacks_list,\n",
        "                            validation_data=(valid_x, valid_y)\n",
        "                    )"
      ],
      "execution_count": null,
      "outputs": [
        {
          "output_type": "stream",
          "text": [
            "Train on 144 samples, validate on 1 samples\n",
            "Epoch 1/100\n",
            "144/144 [==============================] - 1s 9ms/step - loss: 0.0154 - val_loss: 0.0267\n",
            "Epoch 2/100\n",
            "144/144 [==============================] - 0s 3ms/step - loss: 0.0136 - val_loss: 0.1150\n",
            "Epoch 3/100\n",
            "144/144 [==============================] - 0s 3ms/step - loss: 0.0131 - val_loss: 0.0450\n",
            "Epoch 4/100\n",
            "144/144 [==============================] - 0s 3ms/step - loss: 0.0139 - val_loss: 0.1138\n",
            "Epoch 5/100\n",
            "144/144 [==============================] - 0s 3ms/step - loss: 0.0131 - val_loss: 0.0878\n",
            "Epoch 6/100\n",
            "144/144 [==============================] - 0s 3ms/step - loss: 0.0133 - val_loss: 0.0535\n",
            "Epoch 7/100\n",
            "144/144 [==============================] - 0s 3ms/step - loss: 0.0126 - val_loss: 0.0617\n",
            "Epoch 8/100\n",
            "144/144 [==============================] - 0s 3ms/step - loss: 0.0129 - val_loss: 0.0513\n",
            "Epoch 9/100\n",
            "144/144 [==============================] - 0s 3ms/step - loss: 0.0131 - val_loss: 0.0389\n",
            "Epoch 10/100\n",
            "144/144 [==============================] - 0s 3ms/step - loss: 0.0138 - val_loss: 0.0187\n",
            "Epoch 11/100\n",
            "144/144 [==============================] - 0s 3ms/step - loss: 0.0125 - val_loss: 0.0446\n",
            "Epoch 12/100\n",
            "144/144 [==============================] - 0s 3ms/step - loss: 0.0130 - val_loss: 0.0201\n",
            "Epoch 13/100\n",
            "144/144 [==============================] - 0s 3ms/step - loss: 0.0134 - val_loss: 0.0566\n",
            "Epoch 14/100\n",
            "144/144 [==============================] - 0s 3ms/step - loss: 0.0130 - val_loss: 0.0395\n",
            "Epoch 15/100\n",
            "144/144 [==============================] - 0s 3ms/step - loss: 0.0125 - val_loss: 0.0097\n",
            "Epoch 16/100\n",
            "144/144 [==============================] - 0s 3ms/step - loss: 0.0123 - val_loss: 0.0037\n",
            "Epoch 17/100\n",
            "144/144 [==============================] - 0s 3ms/step - loss: 0.0138 - val_loss: 0.0199\n",
            "Epoch 18/100\n",
            "144/144 [==============================] - 0s 3ms/step - loss: 0.0123 - val_loss: 0.0158\n",
            "Epoch 19/100\n",
            "144/144 [==============================] - 0s 3ms/step - loss: 0.0135 - val_loss: 0.0097\n",
            "Epoch 20/100\n",
            "144/144 [==============================] - 0s 3ms/step - loss: 0.0122 - val_loss: 0.0363\n",
            "Epoch 21/100\n",
            "144/144 [==============================] - 0s 3ms/step - loss: 0.0125 - val_loss: 0.0643\n",
            "Epoch 22/100\n",
            "144/144 [==============================] - 0s 3ms/step - loss: 0.0131 - val_loss: 0.0325\n",
            "Epoch 23/100\n",
            "144/144 [==============================] - 0s 3ms/step - loss: 0.0136 - val_loss: 0.0068\n",
            "Epoch 24/100\n",
            "144/144 [==============================] - 0s 3ms/step - loss: 0.0128 - val_loss: 0.0091\n",
            "Epoch 25/100\n",
            "144/144 [==============================] - 0s 3ms/step - loss: 0.0127 - val_loss: 0.0744\n",
            "Epoch 26/100\n",
            "144/144 [==============================] - 0s 3ms/step - loss: 0.0129 - val_loss: 0.1009\n"
          ],
          "name": "stdout"
        }
      ]
    },
    {
      "cell_type": "code",
      "metadata": {
        "id": "RLTgflwcQRv7",
        "colab_type": "code",
        "colab": {
          "base_uri": "https://localhost:8080/",
          "height": 433
        },
        "outputId": "17e2c75a-9e9f-48e1-babb-4e021a54eec4"
      },
      "source": [
        "# Plot training and validation loss\n",
        "loss = history.history[\"loss\"]\n",
        "val_loss = history.history[\"val_loss\"]\n",
        "epochs = range(1, len(loss) + 1)\n",
        "\n",
        "plt.figure(figsize=(7, 7))\n",
        "plt.plot(epochs, loss, label=\"Training loss\")\n",
        "plt.plot(epochs, val_loss, \"r\", label=\"Validation loss\")\n",
        "plt.legend();"
      ],
      "execution_count": null,
      "outputs": [
        {
          "output_type": "display_data",
          "data": {
            "image/png": "[encoded data removed]",
            "text/plain": [
              "<Figure size 504x504 with 1 Axes>"
            ]
          },
          "metadata": {
            "tags": []
          }
        }
      ]
    },
    {
      "cell_type": "code",
      "metadata": {
        "colab_type": "code",
        "id": "LU8FWjMfZH5g",
        "colab": {
          "base_uri": "https://localhost:8080/",
          "height": 54
        },
        "outputId": "93dedefd-d665-41dc-bb4e-0904062c29d6"
      },
      "source": [
        "# Load best model from model checkpoint\n",
        "from keras.models import load_model\n",
        "best_model = load_model(\"strong_model.h5\")\n",
        "\n",
        "eval_loss = best_model.evaluate(test_x, test_y)\n",
        "eval_loss"
      ],
      "execution_count": null,
      "outputs": [
        {
          "output_type": "stream",
          "text": [
            "\r1/1 [==============================] - 0s 74ms/step\n"
          ],
          "name": "stdout"
        },
        {
          "output_type": "execute_result",
          "data": {
            "text/plain": [
              "0.0069980621337890625"
            ]
          },
          "metadata": {
            "tags": []
          },
          "execution_count": 74
        }
      ]
    },
    {
      "cell_type": "code",
      "metadata": {
        "colab_type": "code",
        "id": "-NBDXh6gZH53",
        "colab": {
          "base_uri": "https://localhost:8080/",
          "height": 35
        },
        "outputId": "98f093b7-27bd-44a8-b4a2-4a3e4b2e37e9"
      },
      "source": [
        "# Denormalize mae to actual value\n",
        "cases_mae = eval_loss * std\n",
        "cases_mae"
      ],
      "execution_count": null,
      "outputs": [
        {
          "output_type": "execute_result",
          "data": {
            "text/plain": [
              "190.64110148131118"
            ]
          },
          "metadata": {
            "tags": []
          },
          "execution_count": 75
        }
      ]
    },
    {
      "cell_type": "markdown",
      "metadata": {
        "id": "Ir43T1wc-SfI",
        "colab_type": "text"
      },
      "source": [
        "***The change may be not significant between models, but this LSTM model slightly better than those simple flattening model.***"
      ]
    },
    {
      "cell_type": "markdown",
      "metadata": {
        "id": "9kkU7HdSRMon",
        "colab_type": "text"
      },
      "source": [
        "# Predict Future Total Cases"
      ]
    },
    {
      "cell_type": "code",
      "metadata": {
        "id": "xg5SGR6jQpDr",
        "colab_type": "code",
        "colab": {
          "base_uri": "https://localhost:8080/",
          "height": 35
        },
        "outputId": "f6094e4f-0164-4416-9428-963c29e485b4"
      },
      "source": [
        "# Invers Transform current day value (multiply by std and add by mean)\n",
        "current_day = (test_y * std) + mean\n",
        "current_day"
      ],
      "execution_count": null,
      "outputs": [
        {
          "output_type": "execute_result",
          "data": {
            "text/plain": [
              "array([97286.])"
            ]
          },
          "metadata": {
            "tags": []
          },
          "execution_count": 76
        }
      ]
    },
    {
      "cell_type": "code",
      "metadata": {
        "id": "NQY0iaB2magS",
        "colab_type": "code",
        "colab": {
          "base_uri": "https://localhost:8080/",
          "height": 164
        },
        "outputId": "702c2a17-087f-401c-cb10-186f27a1c760"
      },
      "source": [
        "next_day = best_model.predict(test_y.reshape(1, 1, 1))\n",
        "\n",
        "# Invers Transform next day value (multiply by std and add by mean)\n",
        "next_day = (next_day * std) + mean\n",
        "\n",
        "# Summarize your result\n",
        "today = datetime.date.today()\n",
        "\n",
        "print(\"Current total cases in {}:\\n{}\"\\\n",
        "            .format(today, current_day[0]), end=\"\\n\\n\")\n",
        "\n",
        "print(\"Estimated total cases COVID-19 in Indonesia in the next day is:\\n{}\"\\\n",
        "            .format(next_day[0,0]), end=\"\\n\\n\")\n",
        "\n",
        "print(\"Difference:\\n{}\".format(abs(next_day - current_day)[0,0]))"
      ],
      "execution_count": null,
      "outputs": [
        {
          "output_type": "stream",
          "text": [
            "Current total cases in 2020-07-26:\n",
            "97286.0\n",
            "\n",
            "Estimated total cases COVID-19 in Indonesia in the next day is:\n",
            "98740.3828125\n",
            "\n",
            "Difference:\n",
            "1454.3828125\n"
          ],
          "name": "stdout"
        }
      ]
    }
  ]
}