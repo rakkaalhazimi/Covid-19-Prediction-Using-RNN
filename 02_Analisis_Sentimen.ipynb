{
  "nbformat": 4,
  "nbformat_minor": 0,
  "metadata": {
    "colab": {
      "name": "Analisis Sentimen.ipynb",
      "provenance": [],
      "collapsed_sections": [],
      "authorship_tag": "ABX9TyOoAAK4NO2ZX3Laivr6mMLW",
      "include_colab_link": true
    },
    "kernelspec": {
      "name": "python3",
      "display_name": "Python 3"
    },
    "language_info": {
      "name": "python"
    }
  },
  "cells": [
    {
      "cell_type": "markdown",
      "metadata": {
        "id": "view-in-github",
        "colab_type": "text"
      },
      "source": [
        "<a href=\"https://colab.research.google.com/github/rakkaalhazimi/Covid-19-Prediction-Using-RNN/blob/master/02_Analisis_Sentimen.ipynb\" target=\"_parent\"><img src=\"https://colab.research.google.com/assets/colab-badge.svg\" alt=\"Open In Colab\"/></a>"
      ]
    },
    {
      "cell_type": "markdown",
      "metadata": {
        "id": "fsoeDIf8PIcV"
      },
      "source": [
        "# Analisis sentimen\n",
        "Analisis sentimen merupakan salah satu teknik dalam NLP untuk menentukan pandangan seseorang akan suatu hal melalui apa yang dia tulis (seperti komentar di youtube, ulasan aplikasi di playstore dll).\n",
        "\n",
        "Pandangan seseorang bisa bersifat positif, negatif dan netral."
      ]
    },
    {
      "cell_type": "markdown",
      "metadata": {
        "id": "di7TRr94uOiK"
      },
      "source": [
        "<img src=\"https://miro.medium.com/max/709/1*R1noDoqtGzE30NZKEbJ8Xg.jpeg\" width=600>"
      ]
    },
    {
      "cell_type": "markdown",
      "metadata": {
        "id": "BC3A_W79SRNy"
      },
      "source": [
        "# Data yang diperlukan\n",
        "Data yang akan kita pakai adalah ulasan pelanggan mengenai pengalaman mereka menginap di hotel. \n",
        "\n",
        "- Kolom data terdiri dari **ulasan** dan **sentimen**, setiap ulasan sudah diberi label 0 dan 1 yang mana **0 menunjukkan tidak puas/sentimen negatif** dan **1 menunjukkan puas/sentimen positif**.\n",
        "\n",
        "Seperti yang sudah kita bahas, analisis sentimen termasuk kedalam **supervised learning** yang mana kita memberi contoh kepada komputer seperti apa komentar yang positif dan seperti apa komentar yang negatif."
      ]
    },
    {
      "cell_type": "markdown",
      "metadata": {
        "id": "ijkmBciaWKn5"
      },
      "source": [
        "# Langkah-langkah pengerjaan\n",
        "Data yang akan kita pakai tadi berformat .csv, jadi dalam pengolahannya kita akan memerlukan library pandas.\n",
        "\n",
        "Library cocok untuk melakukan analisis dan manipulasi data dalam format spreadsheet."
      ]
    },
    {
      "cell_type": "markdown",
      "metadata": {
        "id": "gEtzsXz7WPIr"
      },
      "source": [
        "## 1.0 Import libraries yang diperlukan"
      ]
    },
    {
      "cell_type": "code",
      "metadata": {
        "id": "E9f3AObHWUOp",
        "colab": {
          "base_uri": "https://localhost:8080/"
        },
        "outputId": "aa46e6ab-3945-4bd9-f488-26966cfa4b6b"
      },
      "source": [
        "# Standard Library\n",
        "import string\n",
        "\n",
        "# Third-party Library\n",
        "import numpy as np\n",
        "import pandas as pd\n",
        "import matplotlib.pyplot as plt\n",
        "import seaborn as sns\n",
        "\n",
        "from sklearn.linear_model import LogisticRegression\n",
        "from sklearn.feature_extraction.text import CountVectorizer\n",
        "\n",
        "import nltk\n",
        "from nltk.corpus import stopwords\n",
        "nltk.download(\"punkt\")"
      ],
      "execution_count": null,
      "outputs": [
        {
          "output_type": "stream",
          "text": [
            "[nltk_data] Downloading package punkt to /root/nltk_data...\n",
            "[nltk_data]   Unzipping tokenizers/punkt.zip.\n"
          ],
          "name": "stdout"
        },
        {
          "output_type": "execute_result",
          "data": {
            "text/plain": [
              "True"
            ]
          },
          "metadata": {
            "tags": []
          },
          "execution_count": 2
        }
      ]
    },
    {
      "cell_type": "code",
      "metadata": {
        "colab": {
          "base_uri": "https://localhost:8080/"
        },
        "id": "bXcu0kMbczJD",
        "outputId": "ae3c194b-d95b-4759-e301-2a5689309e1b"
      },
      "source": [
        "# Siapkan stopwords\n",
        "\n",
        "nltk.download(\"stopwords\")\n",
        "id_stop = set(stopwords.words(\"indonesian\"))"
      ],
      "execution_count": null,
      "outputs": [
        {
          "output_type": "stream",
          "text": [
            "[nltk_data] Downloading package stopwords to /root/nltk_data...\n",
            "[nltk_data]   Unzipping corpora/stopwords.zip.\n"
          ],
          "name": "stdout"
        }
      ]
    },
    {
      "cell_type": "markdown",
      "metadata": {
        "id": "J0QpkkzuWZiA"
      },
      "source": [
        "## 2.0 Download dan membuka file data\n",
        "File yang akan kita gunakan ada di dalam github saya dan untuk mengambilnya, kita perlu memanggil command `!git clone` di colab.\n",
        "\n",
        "Tanda `!` diawal merupakan indikasi bahwa ini adalah `bash command`."
      ]
    },
    {
      "cell_type": "code",
      "metadata": {
        "colab": {
          "base_uri": "https://localhost:8080/"
        },
        "id": "17z9LAuTOhZc",
        "outputId": "18b8af06-cccf-4e4e-f0b9-3e2fa8a75cfb"
      },
      "source": [
        "!git clone https://github.com/rakkaalhazimi/Data-NLP-Bahasa-Indonesia"
      ],
      "execution_count": null,
      "outputs": [
        {
          "output_type": "stream",
          "text": [
            "Cloning into 'Data-NLP-Bahasa-Indonesia'...\n",
            "remote: Enumerating objects: 6, done.\u001b[K\n",
            "remote: Counting objects: 100% (6/6), done.\u001b[K\n",
            "remote: Compressing objects: 100% (5/5), done.\u001b[K\n",
            "remote: Total 6 (delta 0), reused 0 (delta 0), pack-reused 0\u001b[K\n",
            "Unpacking objects: 100% (6/6), done.\n"
          ],
          "name": "stdout"
        }
      ]
    },
    {
      "cell_type": "code",
      "metadata": {
        "colab": {
          "base_uri": "https://localhost:8080/"
        },
        "id": "TMYML5icWIvu",
        "outputId": "b942b7be-0921-49b6-9c72-3a1244b2b372"
      },
      "source": [
        "file = \"/content/Data-NLP-Bahasa-Indonesia/review_hotel.csv\"\n",
        "\n",
        "df = pd.read_csv(file)                      \n",
        "df.info()"
      ],
      "execution_count": null,
      "outputs": [
        {
          "output_type": "stream",
          "text": [
            "<class 'pandas.core.frame.DataFrame'>\n",
            "RangeIndex: 14856 entries, 0 to 14855\n",
            "Data columns (total 3 columns):\n",
            " #   Column       Non-Null Count  Dtype \n",
            "---  ------       --------------  ----- \n",
            " 0   review_id    14856 non-null  object\n",
            " 1   review_text  14856 non-null  object\n",
            " 2   category     14856 non-null  int64 \n",
            "dtypes: int64(1), object(2)\n",
            "memory usage: 348.3+ KB\n"
          ],
          "name": "stdout"
        }
      ]
    },
    {
      "cell_type": "code",
      "metadata": {
        "colab": {
          "base_uri": "https://localhost:8080/",
          "height": 198
        },
        "id": "eJPz-YqOXA9p",
        "outputId": "f8fb51be-094c-404f-f35d-92a99adc43b6"
      },
      "source": [
        "df.head(5)"
      ],
      "execution_count": null,
      "outputs": [
        {
          "output_type": "execute_result",
          "data": {
            "text/html": [
              "<div>\n",
              "<style scoped>\n",
              "    .dataframe tbody tr th:only-of-type {\n",
              "        vertical-align: middle;\n",
              "    }\n",
              "\n",
              "    .dataframe tbody tr th {\n",
              "        vertical-align: top;\n",
              "    }\n",
              "\n",
              "    .dataframe thead th {\n",
              "        text-align: right;\n",
              "    }\n",
              "</style>\n",
              "<table border=\"1\" class=\"dataframe\">\n",
              "  <thead>\n",
              "    <tr style=\"text-align: right;\">\n",
              "      <th></th>\n",
              "      <th>review_id</th>\n",
              "      <th>review_text</th>\n",
              "      <th>category</th>\n",
              "    </tr>\n",
              "  </thead>\n",
              "  <tbody>\n",
              "    <tr>\n",
              "      <th>0</th>\n",
              "      <td>0fc651bfdd38a3b4ba19ef9d0d1e92e3</td>\n",
              "      <td>Penginapannya rapi, bersih, suasana tenang, pe...</td>\n",
              "      <td>1</td>\n",
              "    </tr>\n",
              "    <tr>\n",
              "      <th>1</th>\n",
              "      <td>7d8cb2e465c5602e51c1ba8710e8ff16</td>\n",
              "      <td>wifi tidak sampai kamar, tidak tersedia heater...</td>\n",
              "      <td>0</td>\n",
              "    </tr>\n",
              "    <tr>\n",
              "      <th>2</th>\n",
              "      <td>1f4447c73e5e1aac462d05b0ecbd5a55</td>\n",
              "      <td>Lantai kamar mandi kotor, bau, dan seperti sdh...</td>\n",
              "      <td>0</td>\n",
              "    </tr>\n",
              "    <tr>\n",
              "      <th>3</th>\n",
              "      <td>b9aefbfb0debbfff43f8b268c82b43c0</td>\n",
              "      <td>Wc jorok.. Kasur tidak dibersihkan,, handuk ti...</td>\n",
              "      <td>0</td>\n",
              "    </tr>\n",
              "    <tr>\n",
              "      <th>4</th>\n",
              "      <td>e2afef18bd695fae43d4d53b8c547bd4</td>\n",
              "      <td>bocor lagi</td>\n",
              "      <td>0</td>\n",
              "    </tr>\n",
              "  </tbody>\n",
              "</table>\n",
              "</div>"
            ],
            "text/plain": [
              "                          review_id  ... category\n",
              "0  0fc651bfdd38a3b4ba19ef9d0d1e92e3  ...        1\n",
              "1  7d8cb2e465c5602e51c1ba8710e8ff16  ...        0\n",
              "2  1f4447c73e5e1aac462d05b0ecbd5a55  ...        0\n",
              "3  b9aefbfb0debbfff43f8b268c82b43c0  ...        0\n",
              "4  e2afef18bd695fae43d4d53b8c547bd4  ...        0\n",
              "\n",
              "[5 rows x 3 columns]"
            ]
          },
          "metadata": {
            "tags": []
          },
          "execution_count": 6
        }
      ]
    },
    {
      "cell_type": "markdown",
      "metadata": {
        "id": "lLKkp-yfX2-i"
      },
      "source": [
        "## 3.0 Eksplorasi data"
      ]
    },
    {
      "cell_type": "code",
      "metadata": {
        "colab": {
          "base_uri": "https://localhost:8080/",
          "height": 308
        },
        "id": "5FnkySH6X9-Q",
        "outputId": "6d475dde-efa5-4a3f-c75a-d3954d920fa7"
      },
      "source": [
        "sns.countplot(data=df, x=\"category\")\n",
        "plt.suptitle(\"Jumlah label\")\n",
        "plt.show()"
      ],
      "execution_count": null,
      "outputs": [
        {
          "output_type": "display_data",
          "data": {
            "image/png": "[encoded data removed]",
            "text/plain": [
              "<Figure size 432x288 with 1 Axes>"
            ]
          },
          "metadata": {
            "tags": [],
            "needs_background": "light"
          }
        }
      ]
    },
    {
      "cell_type": "markdown",
      "metadata": {
        "id": "xcqnpcjCh7IS"
      },
      "source": [
        "## 4.0 Praproses Teks"
      ]
    },
    {
      "cell_type": "code",
      "metadata": {
        "id": "38MR823wiRWO"
      },
      "source": [
        "def text_preprocessing(text):\n",
        "    text = text.lower()\n",
        "    table = text.maketrans(\"\", \"\", string.punctuation)\n",
        "    text = text.translate(table)\n",
        "    \n",
        "    # Stemmer tidak digunakan karena prosesnya memakan\n",
        "    # waktu lama untuk 15 ribuan data.  Namun teman-teman\n",
        "    # boleh menggunakannya jika ingin.\n",
        "\n",
        "    return text"
      ],
      "execution_count": null,
      "outputs": []
    },
    {
      "cell_type": "code",
      "metadata": {
        "id": "P2y_6lDUh8kH"
      },
      "source": [
        "df[\"preprocessed_text\"] = df[\"review_text\"].map(text_preprocessing)"
      ],
      "execution_count": null,
      "outputs": []
    },
    {
      "cell_type": "code",
      "metadata": {
        "colab": {
          "base_uri": "https://localhost:8080/",
          "height": 267
        },
        "id": "9VymDaSJl2nY",
        "outputId": "7ff8353b-fa75-4646-e7a7-c97c73001aed"
      },
      "source": [
        "df.head(5)"
      ],
      "execution_count": null,
      "outputs": [
        {
          "output_type": "execute_result",
          "data": {
            "text/html": [
              "<div>\n",
              "<style scoped>\n",
              "    .dataframe tbody tr th:only-of-type {\n",
              "        vertical-align: middle;\n",
              "    }\n",
              "\n",
              "    .dataframe tbody tr th {\n",
              "        vertical-align: top;\n",
              "    }\n",
              "\n",
              "    .dataframe thead th {\n",
              "        text-align: right;\n",
              "    }\n",
              "</style>\n",
              "<table border=\"1\" class=\"dataframe\">\n",
              "  <thead>\n",
              "    <tr style=\"text-align: right;\">\n",
              "      <th></th>\n",
              "      <th>review_id</th>\n",
              "      <th>review_text</th>\n",
              "      <th>category</th>\n",
              "      <th>preprocessed_text</th>\n",
              "    </tr>\n",
              "  </thead>\n",
              "  <tbody>\n",
              "    <tr>\n",
              "      <th>0</th>\n",
              "      <td>0fc651bfdd38a3b4ba19ef9d0d1e92e3</td>\n",
              "      <td>Penginapannya rapi, bersih, suasana tenang, pe...</td>\n",
              "      <td>1</td>\n",
              "      <td>penginapannya rapi bersih suasana tenang pelay...</td>\n",
              "    </tr>\n",
              "    <tr>\n",
              "      <th>1</th>\n",
              "      <td>7d8cb2e465c5602e51c1ba8710e8ff16</td>\n",
              "      <td>wifi tidak sampai kamar, tidak tersedia heater...</td>\n",
              "      <td>0</td>\n",
              "      <td>wifi tidak sampai kamar tidak tersedia heater ...</td>\n",
              "    </tr>\n",
              "    <tr>\n",
              "      <th>2</th>\n",
              "      <td>1f4447c73e5e1aac462d05b0ecbd5a55</td>\n",
              "      <td>Lantai kamar mandi kotor, bau, dan seperti sdh...</td>\n",
              "      <td>0</td>\n",
              "      <td>lantai kamar mandi kotor bau dan seperti sdh j...</td>\n",
              "    </tr>\n",
              "    <tr>\n",
              "      <th>3</th>\n",
              "      <td>b9aefbfb0debbfff43f8b268c82b43c0</td>\n",
              "      <td>Wc jorok.. Kasur tidak dibersihkan,, handuk ti...</td>\n",
              "      <td>0</td>\n",
              "      <td>wc jorok kasur tidak dibersihkan handuk tidak ...</td>\n",
              "    </tr>\n",
              "    <tr>\n",
              "      <th>4</th>\n",
              "      <td>e2afef18bd695fae43d4d53b8c547bd4</td>\n",
              "      <td>bocor lagi</td>\n",
              "      <td>0</td>\n",
              "      <td>bocor lagi</td>\n",
              "    </tr>\n",
              "  </tbody>\n",
              "</table>\n",
              "</div>"
            ],
            "text/plain": [
              "                          review_id  ...                                  preprocessed_text\n",
              "0  0fc651bfdd38a3b4ba19ef9d0d1e92e3  ...  penginapannya rapi bersih suasana tenang pelay...\n",
              "1  7d8cb2e465c5602e51c1ba8710e8ff16  ...  wifi tidak sampai kamar tidak tersedia heater ...\n",
              "2  1f4447c73e5e1aac462d05b0ecbd5a55  ...  lantai kamar mandi kotor bau dan seperti sdh j...\n",
              "3  b9aefbfb0debbfff43f8b268c82b43c0  ...  wc jorok kasur tidak dibersihkan handuk tidak ...\n",
              "4  e2afef18bd695fae43d4d53b8c547bd4  ...                                         bocor lagi\n",
              "\n",
              "[5 rows x 4 columns]"
            ]
          },
          "metadata": {
            "tags": []
          },
          "execution_count": 9
        }
      ]
    },
    {
      "cell_type": "markdown",
      "metadata": {
        "id": "mPJyi2hVlHrX"
      },
      "source": [
        "## 5.0 Representasi Teks"
      ]
    },
    {
      "cell_type": "code",
      "metadata": {
        "id": "E2K3VHxm0yFl"
      },
      "source": [
        "text = df[\"preprocessed_text\"].values\n",
        "vect = CountVectorizer()\n",
        "\n",
        "# Membuat BoW \n",
        "vect.fit(text)\n",
        "bow = vect.transform(text)\n",
        "\n",
        "# Atau\n",
        "bow = vect.fit_transform(text)"
      ],
      "execution_count": null,
      "outputs": []
    },
    {
      "cell_type": "code",
      "metadata": {
        "colab": {
          "base_uri": "https://localhost:8080/"
        },
        "id": "MfmmQEso15z0",
        "outputId": "c79326eb-6650-44b3-869c-c1b8c57886c2"
      },
      "source": [
        "# Jumlah kosakata\n",
        "len(vect.vocabulary_)"
      ],
      "execution_count": null,
      "outputs": [
        {
          "output_type": "execute_result",
          "data": {
            "text/plain": [
              "16898"
            ]
          },
          "metadata": {
            "tags": []
          },
          "execution_count": 75
        }
      ]
    },
    {
      "cell_type": "markdown",
      "metadata": {
        "id": "PtQ2i0tgME1J"
      },
      "source": [
        "## 6.0 Siapkan Data Input dan Data Output\n",
        "- Input kita disini adalah: review pelanggan\n",
        "- Output kita disini adalah: puas (1) atau tidak puas (0)"
      ]
    },
    {
      "cell_type": "code",
      "metadata": {
        "id": "CYRvINwrMOyC"
      },
      "source": [
        "# X = input data, y = output data\n",
        "X = bow\n",
        "y = df[\"category\"].values"
      ],
      "execution_count": null,
      "outputs": []
    },
    {
      "cell_type": "markdown",
      "metadata": {
        "id": "xY5v1e2pL6jl"
      },
      "source": [
        "## 7.0 Model Machine Learning dan Prediksi"
      ]
    },
    {
      "cell_type": "code",
      "metadata": {
        "id": "l0G_DvHkL-BA"
      },
      "source": [
        "logres = LogisticRegression()\n",
        "logres.fit(X, y)"
      ],
      "execution_count": null,
      "outputs": []
    },
    {
      "cell_type": "code",
      "metadata": {
        "colab": {
          "base_uri": "https://localhost:8080/"
        },
        "id": "Ftk9PaRRM2gX",
        "outputId": "8a84691e-9605-4c45-ce5a-a2221f8227f0"
      },
      "source": [
        "# Akurasi model\n",
        "logres.score(X, y)"
      ],
      "execution_count": null,
      "outputs": [
        {
          "output_type": "execute_result",
          "data": {
            "text/plain": [
              "0.9743537964458805"
            ]
          },
          "metadata": {
            "tags": []
          },
          "execution_count": 15
        }
      ]
    },
    {
      "cell_type": "code",
      "metadata": {
        "colab": {
          "base_uri": "https://localhost:8080/"
        },
        "id": "mZaU6EE3J0ei",
        "outputId": "1af8cfd7-0d26-4731-bc4d-0d43c60a961f"
      },
      "source": [
        "# Prediksi review pelanggan\n",
        "contoh_review = [\"tempatnya kurang nyaman\"]\n",
        "contoh_bow = vect.transform(contoh_review)\n",
        "\n",
        "# Akan muncul 0 jika sentimen negatif\n",
        "#      muncul 1 jika sentimen positif\n",
        "logres.predict(contoh_bow)"
      ],
      "execution_count": null,
      "outputs": [
        {
          "output_type": "execute_result",
          "data": {
            "text/plain": [
              "array([0])"
            ]
          },
          "metadata": {
            "tags": []
          },
          "execution_count": 45
        }
      ]
    },
    {
      "cell_type": "markdown",
      "metadata": {
        "id": "O-28gzvLGspU"
      },
      "source": [
        "# Menggabungkan Preprocessing dan Model ML secara bersamaan\n",
        "Dari pada kita menerapkan metodenya satu persatu, kita bisa gabungkan saja semua metodenya dalam satu wadah yang berupa **pipeline**."
      ]
    },
    {
      "cell_type": "code",
      "metadata": {
        "id": "c5T2JEoTGy1v"
      },
      "source": [
        "from sklearn.pipeline import Pipeline\n",
        "\n",
        "# Pipeline dapat menampung semua metode di sklearn secara berurutan,\n",
        "# jadi nanti kita tinggal melakukan .fit() satu kali saja\n",
        "ml_pipe = Pipeline([(\"preprocessing\", CountVectorizer()), \n",
        "                    (\"logres\", LogisticRegression())])"
      ],
      "execution_count": null,
      "outputs": []
    },
    {
      "cell_type": "code",
      "metadata": {
        "colab": {
          "base_uri": "https://localhost:8080/"
        },
        "id": "rg3sAlvfHpqo",
        "outputId": "4d71d4d0-c34c-4fa2-c714-def12fbc7956"
      },
      "source": [
        "ml_pipe.fit(text, y)"
      ],
      "execution_count": null,
      "outputs": [
        {
          "output_type": "execute_result",
          "data": {
            "text/plain": [
              "Pipeline(memory=None,\n",
              "         steps=[('preprocessing',\n",
              "                 CountVectorizer(analyzer='word', binary=False,\n",
              "                                 decode_error='strict',\n",
              "                                 dtype=<class 'numpy.int64'>, encoding='utf-8',\n",
              "                                 input='content', lowercase=True, max_df=1.0,\n",
              "                                 max_features=None, min_df=1,\n",
              "                                 ngram_range=(1, 1), preprocessor=None,\n",
              "                                 stop_words=None, strip_accents=None,\n",
              "                                 token_pattern='(?u)\\\\b\\\\w\\\\w+\\\\b',\n",
              "                                 tokenizer=None, vocabulary=None)),\n",
              "                ('logres',\n",
              "                 LogisticRegression(C=1.0, class_weight=None, dual=False,\n",
              "                                    fit_intercept=True, intercept_scaling=1,\n",
              "                                    l1_ratio=None, max_iter=100,\n",
              "                                    multi_class='auto', n_jobs=None,\n",
              "                                    penalty='l2', random_state=None,\n",
              "                                    solver='lbfgs', tol=0.0001, verbose=0,\n",
              "                                    warm_start=False))],\n",
              "         verbose=False)"
            ]
          },
          "metadata": {
            "tags": []
          },
          "execution_count": 56
        }
      ]
    },
    {
      "cell_type": "code",
      "metadata": {
        "colab": {
          "base_uri": "https://localhost:8080/"
        },
        "id": "71qpNCSMk1LV",
        "outputId": "e22cd90d-9c86-49e0-eb19-2df3ad773099"
      },
      "source": [
        "# Kosakata\n",
        "len(ml_pipe.named_steps[\"preprocessing\"].vocabulary_)"
      ],
      "execution_count": null,
      "outputs": [
        {
          "output_type": "execute_result",
          "data": {
            "text/plain": [
              "16898"
            ]
          },
          "metadata": {
            "tags": []
          },
          "execution_count": 61
        }
      ]
    },
    {
      "cell_type": "code",
      "metadata": {
        "colab": {
          "base_uri": "https://localhost:8080/"
        },
        "id": "VmUWtvwZJvQO",
        "outputId": "620c450e-a3de-4d75-ea16-e939d95e8d5b"
      },
      "source": [
        "# Akurasi model\n",
        "ml_pipe.score(text, y)"
      ],
      "execution_count": null,
      "outputs": [
        {
          "output_type": "execute_result",
          "data": {
            "text/plain": [
              "0.9743537964458805"
            ]
          },
          "metadata": {
            "tags": []
          },
          "execution_count": 46
        }
      ]
    },
    {
      "cell_type": "code",
      "metadata": {
        "colab": {
          "base_uri": "https://localhost:8080/"
        },
        "id": "6ntuUBlihQLo",
        "outputId": "7e84462a-3629-4bab-b27f-3b1af145636a"
      },
      "source": [
        "# Prediksi review pelanggan\n",
        "contoh_review = [\"tempatnya super mantap nyaman\"]\n",
        "\n",
        "ml_pipe.predict(contoh_review)"
      ],
      "execution_count": null,
      "outputs": [
        {
          "output_type": "execute_result",
          "data": {
            "text/plain": [
              "array([1])"
            ]
          },
          "metadata": {
            "tags": []
          },
          "execution_count": 69
        }
      ]
    },
    {
      "cell_type": "markdown",
      "metadata": {
        "id": "eVMGUVQQsNbl"
      },
      "source": [
        "# Penutup\n",
        "- Aplikasi NLP seperti analisis sentimen termasuk dalam task klasifikasi teks.\n",
        "\n",
        "- Kalian juga bisa membuat versi lain dari klasifikasi teks seperti misalnya mendeteksi emosi pada teks. Caranya adalah dengan memberi indikasi pada teks (misal 0: netral, 1: senang, 2: sedih)\n",
        "\n",
        "- Kita bisa menggunakan input-data tweet, status WhatsApp, caption IG, komentar youtube, atau dari open data yang sudah tersedia.\n",
        "\n",
        "- Atau bahkan kalian bisa buat datanya sendiri.\n"
      ]
    }
  ]
}