{
  "nbformat": 4,
  "nbformat_minor": 0,
  "metadata": {
    "colab": {
      "name": "NLP-for-Analysis.ipynb",
      "provenance": [],
      "toc_visible": true,
      "authorship_tag": "ABX9TyPZRMWpvZJzxXVW7uuAIo8V",
      "include_colab_link": true
    },
    "kernelspec": {
      "name": "python3",
      "display_name": "Python 3"
    },
    "language_info": {
      "name": "python"
    }
  },
  "cells": [
    {
      "cell_type": "markdown",
      "metadata": {
        "id": "view-in-github",
        "colab_type": "text"
      },
      "source": [
        "<a href=\"https://colab.research.google.com/github/rakkaalhazimi/Covid-19-Prediction-Using-RNN/blob/master/NLP_for_Analysis.ipynb\" target=\"_parent\"><img src=\"https://colab.research.google.com/assets/colab-badge.svg\" alt=\"Open In Colab\"/></a>"
      ]
    },
    {
      "cell_type": "markdown",
      "metadata": {
        "id": "MI6q5DcG5m7g"
      },
      "source": [
        "# Analisis Teks dengan Python: Metode dan Teknik\n",
        "Subjek utama dalam Natural Language Processing adalah bagaimana kita membuat program komputer yang dapat mengolah dan menganalisis data dari bahasa manusia (natural language).\n",
        "\n",
        "Banyak hal yang dapat kita telusuri dari data teks, seperti teks itu sendiri, unsur pembentuk kata/kalimat, kebahasaan atau linguistik, pemaknaan atau leksikal, dan analisis lainnya."
      ]
    },
    {
      "cell_type": "markdown",
      "metadata": {
        "id": "hleyU0kMhmv-"
      },
      "source": [
        "## 1.0 - Akses Data Teks\n",
        "Data teks bisa kita dapatkan dari berbagai sumber seperti berita, sosial media, kaggle, dan atau bisa kita kumpulkan sendiri.\n",
        "\n",
        "Kali ini kita coba mengambil data teks berupa UUD45 dari website Mahkamah Konstitusi yang berformat PDF."
      ]
    },
    {
      "cell_type": "code",
      "metadata": {
        "id": "YrJoehYWPBzx",
        "colab": {
          "base_uri": "https://localhost:8080/"
        },
        "outputId": "93826fc4-39d0-48df-b5f6-1d9e1183651c"
      },
      "source": [
        "# Download terlebih dahulu library PyPDF2 untuk meng-ekstrak teks dari pdf\n",
        "!pip install -q PyPDF2\n",
        "\n",
        "# Bash command untuk mendownload file PDF\n",
        "!wget -q https://www.mkri.id/public/content/infoumum/regulation/pdf/UUD45%20ASLI.pdf"
      ],
      "execution_count": null,
      "outputs": [
        {
          "output_type": "stream",
          "text": [
            "\u001b[?25l\r\u001b[K     |████▎                           | 10kB 18.1MB/s eta 0:00:01\r\u001b[K     |████████▌                       | 20kB 19.8MB/s eta 0:00:01\r\u001b[K     |████████████▊                   | 30kB 22.7MB/s eta 0:00:01\r\u001b[K     |█████████████████               | 40kB 25.9MB/s eta 0:00:01\r\u001b[K     |█████████████████████▏          | 51kB 28.4MB/s eta 0:00:01\r\u001b[K     |█████████████████████████▍      | 61kB 27.5MB/s eta 0:00:01\r\u001b[K     |█████████████████████████████▋  | 71kB 24.6MB/s eta 0:00:01\r\u001b[K     |████████████████████████████████| 81kB 8.6MB/s \n",
            "\u001b[?25h  Building wheel for PyPDF2 (setup.py) ... \u001b[?25l\u001b[?25hdone\n"
          ],
          "name": "stdout"
        }
      ]
    },
    {
      "cell_type": "code",
      "metadata": {
        "id": "qTERhJTzO3ab"
      },
      "source": [
        "import PyPDF2\n",
        "import re\n",
        "\n",
        "pdf = open(\"UUD45 ASLI.pdf\", \"rb\")\n",
        "pdf_reader = PyPDF2.PdfFileReader(pdf)"
      ],
      "execution_count": null,
      "outputs": []
    },
    {
      "cell_type": "code",
      "metadata": {
        "id": "igCzKo8rK9vZ"
      },
      "source": [
        "# Ambil teks di tiap halaman pdf\n",
        "def get_pdf_text(pdf):\n",
        "    return \"\\n\".join(page.extractText() for page in pdf.pages)\n",
        "\n",
        "uud45 = get_pdf_text(pdf_reader)"
      ],
      "execution_count": null,
      "outputs": []
    },
    {
      "cell_type": "code",
      "metadata": {
        "colab": {
          "base_uri": "https://localhost:8080/"
        },
        "id": "BeFkaYOZv9N-",
        "outputId": "0c72d979-0788-4641-9eb5-0b8d73e24f3e"
      },
      "source": [
        "# Rapikan teks dengan regular expression (akan dibahas nanti)\n",
        "def format_linespace(text):\n",
        "    text = re.sub(r\"(\\w)(\\n)(\\w)\", r\"\\1\\3\", text) # menghilangkan baris diantara kata\n",
        "    text = re.sub(r\"(\\n)(-)(\\n)\", r\"\\2\", text)    # menghilangkan baris diantara tanda \"-\"\n",
        "    return text\n",
        "\n",
        "uud45_clean = format_linespace(uud45)\n",
        "print(uud45_clean)"
      ],
      "execution_count": null,
      "outputs": [
        {
          "output_type": "stream",
          "text": [
            " \n",
            " \n",
            "UNDANG-UNDANG DASAR \n",
            "NEGARA\n",
            " \n",
            "REPUBLIK INDONESIA \n",
            " \n",
            "1945\n",
            " \n",
            " \n",
            "Pembukaan\n",
            " \n",
            "Bahwa sesungguhnya kemerdekaan itu ialah hak segala bangsa dan oleh sebab itu, maka \n",
            "penjajahan diatas dunia harus dihapuskan\n",
            ",\n",
            " \n",
            "karena tidak sesuai dengan perikemanusiaan \n",
            "dan perikeadilan.\n",
            " \n",
            " \n",
            "Dan perjuangan pergerakan kemerdekaan Indonesia telah sampailah kepada saat yang \n",
            "berbahagia dengan selamat sentosa mengantarkan rakyat Indonesia ke depan pintu \n",
            "gerbang kemerdekaan negara Indonesia, yang merdeka, bersatu, berdaulat, adil dan \n",
            "makmur.\n",
            " \n",
            " \n",
            "Atas berkat rahmat Allah Yang Maha Kuasa dan dengan didorongkan oleh keinginan \n",
            "luhur, supaya berkehidupan kebangsaan yang bebas, maka rakyat Indonesia menyatakan \n",
            "dengan\n",
            " \n",
            "ini\n",
            " \n",
            "kemerdekaannya.\n",
            " \n",
            " \n",
            "Kemudian daripada itu untuk membentuk suatu Pemerintah Negara Indonesia yang \n",
            "melindungi segenap bangsa Indonesia dan seluruh tumpah darah Indonesia dan untuk \n",
            "memajukan kesejahteraan umum, mencerdaskan kehidupan bangsa, dan ikut \n",
            "melaksanakan ketertiban dunia yang berdasarkan kemerdekaan, perdamaian abadi dan \n",
            "keadilan sosial, maka disusunlah Kemerdekaan Kebangsaan Indonesia itu dalam suatu \n",
            "Undang-Undang Dasar Negara Indonesia, yang\n",
            " \n",
            "terbentuk dalam suatu susunan Negara \n",
            "Republik Indonesia yang berkedaulatan rakyat dengan berdasar kepada : Ketuhanan Yang \n",
            "Maha Esa, kemanusiaan yang adil dan beradab, persatuan Indonesia, dan kerakyatan yang  \n",
            "dipimpin oleh hikmat kebijaksanaan dalam permusyawaratan/perwakilan, serta dengan \n",
            "mewujudkan suatu \n",
            "keadilan sosial bagi seluruh rakyat Indonesia.\n",
            " \n",
            " \n",
            "UNDANG-UNDANG DASAR\n",
            " \n",
            " \n",
            "BAB I\n",
            " \n",
            "BENTUK DAN KEDAULATAN\n",
            " \n",
            "Pasal 1\n",
            " \n",
            "(1) Negara Indonesia ialah Negara kesatuan yang berbentuk Republik.\n",
            " \n",
            "(2) Kedaulatan adalah di tangan rakyat, dan dilakukan sepenuhnya oleh Majelis\n",
            " \n",
            "Permusyawaratan Rakyat.\n",
            " \n",
            " \n",
            "BAB II\n",
            " \n",
            "MAJELIS PERMUSYAWARATAN RAKYAT\n",
            " \n",
            "Pasal 2\n",
            " \n",
            "\n",
            "(1) Majelis Permusyawaratan Rakyat terdiri atas anggota-anggota Dewan Perwakilan \n",
            "Rakyat,\n",
            " \n",
            "ditambah dengan utusan-utusan dari daerah-daerah dan golongan-golongan, \n",
            "menurut aturan\n",
            " \n",
            "yang ditetapkan dengan undang-undang.\n",
            " \n",
            "(2) Majelis Permusyawaratan Rakyat bersidang sedikitnya sekali dalam lima tahun di \n",
            "ibukota\n",
            " \n",
            "negara.\n",
            " \n",
            "(3) Segala putusan Majelis Permusyawaratan Rakyat ditetapkan dengan suara yang \n",
            "terbanyak.\n",
            " \n",
            "Pasal 3\n",
            " \n",
            "Majelis Permusyawaratan Rakyat menetapkan Undang-Undang Dasar dan garis-garis \n",
            "besar dari ada haluan negara.\n",
            " \n",
            " \n",
            " \n",
            " \n",
            " \n",
            "BAB III\n",
            " \n",
            "KEKUASAAN PEMERINTAH NEGARA\n",
            " \n",
            "Pasal 4\n",
            " \n",
            "(1) Presiden Republik Indonesia memegang kekuasaan pemerintahan menurut Undang-Undang Dasar.\n",
            " \n",
            "(2) Dalam melakukan kewajibannya Presiden \n",
            "dibantu oleh satu orang Wakil Presiden.\n",
            " \n",
            " \n",
            "Pasal 5\n",
            " \n",
            "(1) Presiden memegang kekuasaan membentuk undang- \n",
            "undang dengan persetujuan \n",
            "Dewan\n",
            " \n",
            "Perwakilan Rakyat.\n",
            " \n",
            "(2) Presiden menetapkan peraturan pemerintah untuk menjalankan undang-undang \n",
            "sebagaimana mestinya.\n",
            " \n",
            " \n",
            "Pasal \n",
            "6\n",
            " \n",
            "(1) Presiden ialah orang Indonesia asli.\n",
            " \n",
            "(2) Presiden dan Wakil Presiden dipilih oleh Majelis Permusyawaratan Rakyat dengan \n",
            "suara\n",
            " \n",
            "yang terbanyak.\n",
            " \n",
            " \n",
            "Pasal 7\n",
            " \n",
            "Presiden dan Wakil Presiden memegang jabatannya selama masa lima tahun, dan \n",
            "sesudahnya dapat dipilih kembali.\n",
            " \n",
            " \n",
            "Pasal 8\n",
            " \n",
            "Jika Presiden mangkat, berhenti, atau tidak dapat melakukan kewajibannya dalam masa \n",
            "jabatannya, ia diganti oleh Wakil Presiden sampai habis waktunya.\n",
            " \n",
            " \n",
            "Pasal 9\n",
            " \n",
            "\n",
            "Sebelum memangku jabatannya, Presiden dan Wakil Presiden bersumpah menurut \n",
            "agama, atau berjanji dengan sungguh-sungguh di hadapan Majelis Permusyawaratan \n",
            "Rakyat atau Dewan Perwakilan Rakyat sebagai berikut:\n",
            " \n",
            "Sumpah Presiden (Wakil Presiden):\n",
            " \n",
            "\"Demi Allah, saya bersumpah akan memenuhi kewajiban Presiden Republik Indonesia \n",
            "(Wakil Presiden Republik Indonesia) dengan sebaik-baiknya dan seadil-adilnya, \n",
            "memegang teguh Undang- \n",
            "Undang Dasar dan menjalankan segala undang-undang dan \n",
            "peraturannya dengan selurus-lurusnya serta berbakti kepada Nusa dan Bangsa.\n",
            " \n",
            " \n",
            "\"Janji Presiden (WakilPresiden):\n",
            " \n",
            "\"Saya berjanji dengan sungguh-sungguh akan memenuhi kewajiban Presiden Republik \n",
            "Indonesia (Wakil Presiden Republik Indonesia) dengan sebaik-baiknya dan seadil-adilnya, memegang teguh Undang-Undang Dasar dan menjalankan segala undang-undang dan peraturannya dengan seluruslurusnya serta berbakti kepada Nusa dan \n",
            "Bangsa.\"\n",
            " \n",
            " \n",
            "Pasal 10\n",
            " \n",
            "Presiden memegang kekuasaan yang tertinggi atas Angkatan Darat, Angkatan Laut, dan \n",
            "Angkatan Udara.\n",
            " \n",
            " \n",
            "Pasal 11\n",
            " \n",
            "Presiden dengan persetujuan Dewan Perwakilan Rakyat menyatakan perang, membuat \n",
            "perdamaian dan perjanjian dengan negara lain.\n",
            " \n",
            "Pasal 12\n",
            " \n",
            "Presiden menyatakan keadaan bahaya. Syarat-syarat dan akibatnya keadaan bahaya \n",
            "ditetapkan dengan undang-undang.\n",
            " \n",
            " \n",
            "Pasal 13\n",
            " \n",
            "(1) Presiden mengangkat duta dan konsul.\n",
            " \n",
            "(2) Presiden menerima duta negara lain.\n",
            " \n",
            " \n",
            "Pasal 14\n",
            " \n",
            "Presiden memberi grasi, amnesti, abolisi, dan rehabilitasi.\n",
            " \n",
            " \n",
            "Pasal 15\n",
            " \n",
            "Presiden memberi gelaran, tanda jasa ,dan lain-lain tanda kehormatan.\n",
            " \n",
            " \n",
            "BAB IV\n",
            " \n",
            "DEWAN PERTIMBANGAN AGUNG\n",
            " \n",
            "Pasal 16\n",
            " \n",
            "(1) Susunan Dewan Pertimbangan Agung ditetapkan dengan undang-undang.\n",
            " \n",
            "(2) Dewan ini berkewajiban memberi jawab atas pertanyaan Presiden dan berhak \n",
            "memajukan\n",
            " \n",
            "usul kepada pemerintah.\n",
            " \n",
            " \n",
            "BAB V\n",
            " \n",
            "\n",
            "KEMENTERIAN NEGARA\n",
            " \n",
            "Pasal 17\n",
            " \n",
            "(1) Presiden dibantu oleh menteri-menteri negara.\n",
            " \n",
            "(2) Menteri-menteri itu diangkat dan diperhentikan oleh Presiden.\n",
            " \n",
            "(3) Menteri-menteri itu memimpin departemen pemerintahan.\n",
            " \n",
            " \n",
            "BAB VI\n",
            " \n",
            "PEMERINTAHAN DAERAH\n",
            " \n",
            "Pasal 18\n",
            " \n",
            "Pembagian daerah Indonesia atas daerah besar dan kecil, dengan bentuk susunan \n",
            "pemerintahannya ditetapkan dengan undang-undang, dengan memandang \n",
            "dan mengingati \n",
            "dasar permusyawaratan dalam sistem pemerintahan negara, dan hak-hak asal-usul dalam \n",
            "daerah-daerah yang bersifat istimewa.\n",
            " \n",
            " \n",
            "BAB VII\n",
            " \n",
            "DEWAN PERWAKILAN RAKYAT\n",
            " \n",
            "Pasal 19\n",
            " \n",
            "(1) Susunan Dewan Perwakilan Rakyat ditetapkan dengan undang-undang.\n",
            " \n",
            "(2) Dewan Perwakilan Rakyat bersidang sedikitnya sekali dalam setahun.\n",
            " \n",
            " \n",
            "Pasal 20\n",
            " \n",
            "(1) Tiap-tiap undang-undang menghendaki persetujuan Dewan Perwakilan Rakyat.\n",
            " \n",
            "(2) Jika sesuatu rancangan undang-undang tidak mendapat persetujuan Dewan \n",
            "Perwakilan\n",
            " \n",
            "Rakyat, maka rancangan tadi tidak boleh dimajukan lagi dalam persidangan Dewan\n",
            " \n",
            "Perwakilan Rakyat masa itu.\n",
            " \n",
            " \n",
            " \n",
            "Pasal 21\n",
            " \n",
            "(1) Anggota-anggota Dewan Perwakilan Rakyat berhak memajukan rancangan undang-undang.\n",
            " \n",
            "(2) Jika rancangan itu, meskipun disetujui oleh Dewan Perwakilan Rakyat, \n",
            "tidak \n",
            "disyahkan oleh Presiden, maka rancangan tadi tidak boleh dimajukan lagi dalam \n",
            "persidangan Dewan\n",
            " \n",
            "Perwakilan Rakyat masa itu.\n",
            " \n",
            " \n",
            "Pasal 22\n",
            " \n",
            "(1) Dalam hal ihwal kegentingan yang memaksa, Presiden berhak menetapkan peraturan\n",
            " \n",
            "pemerintah pengganti undang-undang.\n",
            " \n",
            "(2) Peraturan pemerintah itu harus mendapat persetujuan Dewan Perwakilan Rakyat \n",
            "dalam\n",
            " \n",
            "persidangan yang berikut.\n",
            " \n",
            "(3) Jika tidak mendapat persetujuan, maka peraturan pemerintah itu harus dicabut.\n",
            " \n",
            " \n",
            "BAB VIII\n",
            " \n",
            "HAL KEUANGAN\n",
            " \n",
            "\n",
            "Pasal 23\n",
            " \n",
            "(1) Anggaran pendapatan dan\n",
            " \n",
            "belanja ditetapkan tiap-tiap tahun dengan undang-undang. \n",
            "Apabila Dewan Perwakilan Rakyat tidak menyetujui anggaran yang diusulkan \n",
            "pemerintah, maka pemerintah menjalankan anggaran tahun yang lalu.\n",
            " \n",
            "(2) Segala pajak untuk keperluan negara berdasarkan undang-undang.\n",
            " \n",
            "(3) Macam dan harga mata uang ditetapkan dengan undang-undang.\n",
            " \n",
            "(4) Hal keuangan negara selanjutnya diatur dengan undang-undang.\n",
            " \n",
            "(5) Untuk memeriksa tanggung jawab tentang keuangan negara diadakan suatu Badan \n",
            "Pemeriksa Keuangan, yang peraturannya ditetapkan dengan undang-undang. Hasil \n",
            "pemeriksaan itu diberitahukan kepada Dewan Perwakilan Rakyat.\n",
            " \n",
            " \n",
            "BAB IX\n",
            " \n",
            "KEKUASAAN KEHAKIMAN\n",
            " \n",
            "Pasal 24\n",
            " \n",
            "(1) Kekuasaan Kehakiman dilakukan oleh sebuah Mahkamah Agung dan lain-lain badan\n",
            " \n",
            "kehakiman menurut undang-undang.\n",
            " \n",
            "(2) Susunan dan kekuasaan badan kehakiman itu diatur dengan undang-undang.\n",
            " \n",
            " \n",
            "Pasal 25\n",
            " \n",
            "Syarat-syarat untuk menjadi dan diperhentikan sebagai hakim ditetapkan dengan undang-undang.\n",
            " \n",
            " \n",
            "BAB X\n",
            " \n",
            "WARGA NEGARA\n",
            " \n",
            "Pasal 26\n",
            " \n",
            "(1) Yang menjadi warga negara ialah orang-orang bangsa \n",
            "Indonesia asli dan orang-orang \n",
            "bangsa lain yang disahkan dengan undang-undang sebagai warga negara.\n",
            " \n",
            "(2) Syarat-syarat yang mengenai kewarganegaraan ditetapkan dengan undang-undang.\n",
            " \n",
            " \n",
            " \n",
            " \n",
            " \n",
            " \n",
            "Pasal 27\n",
            " \n",
            "(1) Segala warga negara bersamaan kedudukannya dalam hukum dan pemerintahan dan \n",
            "wajib menjunjung hukum dan pemerintahan itu dengan tidak ada kecualinya.\n",
            " \n",
            "(2) Tiap-tiap warga negara berhak atas pekerjaan dan penghidupan yang layak bagi\n",
            " \n",
            "kemanusiaan.\n",
            " \n",
            " \n",
            "Pasal 28\n",
            " \n",
            "Kemerdekaan berserikat dan berkumpul, mengeluarkan pikiran dengan lisan dan tulisan \n",
            "dan\n",
            " \n",
            "sebagainya ditetapkan dengan undang-undang.\n",
            " \n",
            " \n",
            "BAB XI\n",
            " \n",
            "AGAMA\n",
            " \n",
            "\n",
            "Pasal 29\n",
            " \n",
            "(1) Negara berdasar atas Ketuhanan Yang Maha Esa.\n",
            " \n",
            "(2) Negara menjamin kemerdekaan tiap-tiap penduduk untuk memeluk agamanya \n",
            "masing-masing dan untuk beribadat menurut agamanya dan kepercayaannya itu.\n",
            " \n",
            " \n",
            "BAB XII\n",
            " \n",
            "PERTAHANAN NEGARA\n",
            " \n",
            "Pasal 30\n",
            " \n",
            "(1) Tiap-tiap warga negara berhak dan wajib ikut serta dalam usaha pembelaan negara.\n",
            " \n",
            "(2) Syarat-syarat tentang pembelaan diatur dengan undang-undang.\n",
            " \n",
            " \n",
            "BAB XIII\n",
            " \n",
            "PENDIDIKAN\n",
            " \n",
            "Pasal 31\n",
            " \n",
            "(1\n",
            ") Tiap-tiap warga negara berhak mendapat pengajaran.\n",
            " \n",
            "(2) Pemerintah mengusahakan dan menyelenggarakan satu sistem pengajaran nasional, \n",
            "yang\n",
            " \n",
            "diatur dengan undang-undang.\n",
            " \n",
            " \n",
            "Pasal 32\n",
            " \n",
            "Pemerintah memajukan kebudayaan nasional Indonesia.\n",
            " \n",
            " \n",
            "BAB XIV\n",
            " \n",
            "KESEJAHTERAAN SOSIAL\n",
            " \n",
            "Pasal 33\n",
            " \n",
            "(1) Perekonomian disusun sebagai usaha bersama berdasar atas asas kekeluargaan.\n",
            " \n",
            "(2) Cabang-cabang produksi yang penting bagi negara dan yang menguasai hajat hidup \n",
            "orang\n",
            " \n",
            "banyak dikuasai oleh negara.\n",
            " \n",
            "(3) Bumi dan air dan kekayaan alam yang terkandung didalamnya dikuasai oleh negara \n",
            "dan\n",
            " \n",
            "dipergunakan untuk sebesar-besar kemakmuran rakyat.\n",
            " \n",
            " \n",
            "Pasal 34\n",
            " \n",
            "Fakir miskin dan anak-anakyang terlantar dipelihara oleh negara.\n",
            " \n",
            " \n",
            " \n",
            " \n",
            " \n",
            " \n",
            "BAB XV\n",
            " \n",
            "BENDERA DAN BAHASA\n",
            " \n",
            "Pasal 35\n",
            " \n",
            "Bendera Negara Indonesia ialah Sang Merah Putih.\n",
            " \n",
            "Pasal 36\n",
            " \n",
            "Bahasa negara ialah Bahasa Indonesia.\n",
            " \n",
            "\n",
            " \n",
            "BAB XVI\n",
            " \n",
            "PERUBAHAN UNDANG-UNDANG DASAR\n",
            " \n",
            "Pasal 37\n",
            " \n",
            "(1) Untuk mengubah Undang-Undang Dasar sekurang-kurangnya 2/3 dari pada jumlah \n",
            "anggota Majelis Permusyawaratan Rakyat harus hadir.\n",
            " \n",
            "(2) Putusan diambil dengan \n",
            "persetujuan sekurang-kurangnya 2/3 dari pada jumlah \n",
            "anggota\n",
            " \n",
            "Majelis Permusyawaratan Rakyat yang hadir.\n",
            " \n",
            " \n",
            "ATURAN PERALIHAN\n",
            " \n",
            "Pasal 1\n",
            " \n",
            "Panitia Persiapan Kemerdekaan Indonesia mengatur dan menyelenggarakan kepindahan\n",
            " \n",
            "pemerintahan kepada Pemerintah Indonesia .\n",
            " \n",
            " \n",
            "Pasal II\n",
            " \n",
            "Segala badan negara dan peraturan yang ada masih langsung berlaku, selama belum \n",
            "diadakan yang baru menurut Undang-Undang Dasar ini.\n",
            " \n",
            " \n",
            "Pasal III\n",
            " \n",
            "Untuk pertama kali Presiden dan Wakil Presiden dipilih oleh Panitia Persiapan \n",
            "Kemerdekaan\n",
            " \n",
            "Indonesia.\n",
            " \n",
            " \n",
            "Pasal IV\n",
            " \n",
            "Sebelum Majelis Permusyawaratan Rakyat, Dewan Perwakilan Rakyat, dan Dewan \n",
            "Pertimbangan Agung dibentuk menurut Undang-Undang Dasar ini, segala kekuasaannya \n",
            "dijalankan oleh Presiden dengan bantuan sebuah komite nasional.\n",
            " \n",
            " \n",
            "ATURAN PERTAMBAHAN\n",
            " \n",
            "(1) Dalam enam bulan sesudah akhirnya peperangan Asia Timur Raya, Presiden \n",
            "Indonesia\n",
            " \n",
            "mengatur dan menyelenggarakan segala hal yang ditetapkan dalam Undang-Undang \n",
            "Dasar\n",
            " \n",
            "ini.\n",
            " \n",
            "(2) Dalam enam bulan sesudah Majelis Permusyawaratan Rakyat dibentuk, Majelis itu \n",
            "bersidang untuk menetapkan Undang-Undang Dasar.\n",
            " \n",
            " \n",
            " \n",
            " \n",
            " \n",
            " \n",
            " \n",
            " \n",
            " \n",
            " \n",
            "\n",
            "PENJELASAN TENTANG UNDANG-UNDANG DASAR NEGARA INDONESIA\n",
            " \n",
            " \n",
            "UMUM\n",
            " \n",
            "I. Undang-Undang Dasar, sebagian dari hukum dasar\n",
            " \n",
            "Undang-Undang Dasar suatu negara ialah hanya sebagian dari hukumnya dasar negara \n",
            "itu.\n",
            " \n",
            "Undang-Undang\n",
            " \n",
            "Dasar ialah hukum dasar yang tertulis, sedang di sampingnya Undang- \n",
            "Undang Dasar itu berlaku juga hukum dasar yang tidak tertulis, ialah aturan-aturan dasar\n",
            " \n",
            "yang timbul dan terpelihara dalam praktek penyelenggaraan negara meskipun tidak \n",
            "ditulis.\n",
            " \n",
            "Memang untuk menyelidiki hukum dasar (\n",
            "droit constitution nel\n",
            ") suatu neqara, tidak \n",
            "cukup\n",
            " \n",
            "hanya menyelidiki pasal-pasal Undang-Undang Dasarnya (loi Constituttionelle) saja, \n",
            "akan\n",
            " \n",
            "tetapi harus menyelid1ki juga bagaimana prakteknya dan bagaimana suasana \n",
            "kebatinannya\n",
            " \n",
            "(\n",
            "geistlichen Hintergrund\n",
            ") dait Undang- \n",
            "Undang Dasar itu.\n",
            " \n",
            " \n",
            "Undang-Undang Dasar negara manapun tidak dapat dimengerti kalau hanya dibaca \n",
            "teksnya\n",
            " \n",
            "saja. Untuk mengerti sungguh-sungguh maksudnya Undang-Undang Dasar dari suatu \n",
            "negara,\n",
            " \n",
            "kita harus mempelajari juga bagaimana terjadinya teks Itu, harus diketahui keterangan-keterangannya dan juga harus diketahui dalam suasana apa teks itu dibikin.\n",
            " \n",
            " \n",
            "Dengan demikian kita dapat mengerti apa maksudnya undang-undang yang kita pelajari \n",
            "aliran\n",
            " \n",
            "pikiran apa yang menjadi dasar undang-undang Itu.\n",
            " \n",
            " \n",
            "II. Pokok-pokok pikiran dalam \"pembukaan\"\n",
            " \n",
            " \n",
            "Apakah pokok-pokok pikiran yang terkandung dalam \"pembukaan\" Undang Undang \n",
            "Dasar.\n",
            " \n",
            " \n",
            "1 . \"Negara\" - \n",
            "begitu bunyinya - \n",
            "melindungi segenap bangsa Indonesia dan seluruh \n",
            "tumpah\n",
            " \n",
            "darah Indonesia dengan berdasar atas persatuan dengan mewujudkan keadilan sosial bagi\n",
            " \n",
            "seluruh rakyat Indonesia\".\n",
            " \n",
            " \n",
            "Dalam pembukaan ini diterima aliran pengertian negara persatuan, negara yang \n",
            "melindungi\n",
            " \n",
            "dan meliputi segenap bangsa seluruhnya. Jadi negara mengatasi segala paham golongan,\n",
            " \n",
            "mengatasi segala paham perseorangan. Negara, menurut pengertian \"pembukaan\" itu\n",
            " \n",
            "menghendaki persatuan. meliputi segenap bangsa Indonesia seluruhnya. Inilah suatU \n",
            "dasar\n",
            " \n",
            "negara yang tidak boleh dilupakan.\n",
            " \n",
            "\n",
            " \n",
            "2. Negara hendak mewujudkan keadilan sosial bagi seluruh rakyat.\n",
            " \n",
            " \n",
            "3.Pokok yang ketiga yang terkandung dalam \"pembukaan\" ialah negara yang \n",
            "berkedaulatan\n",
            " \n",
            "Rakyat, berdasar atas kerakyatan dan permusyawaratan perwakilan. Oleh karena itu \n",
            "sistem\n",
            " \n",
            "negara Yang terbentuk dalam Undang-Undang Dasar harus berdasar\n",
            " \n",
            "atas kedaulatan \n",
            "Rakyat\n",
            " \n",
            "dan berdasar atas permusyawaratan perwakilan. Memang aliran ini sesuai dengan sifat\n",
            " \n",
            "masyarakat Indonesia.\n",
            " \n",
            " \n",
            "4. Pokok pikiran Yang keempat Yang terkandung dalam \"pembukaan\" ialah negara \n",
            "berdasar\n",
            " \n",
            "atas Ketuhanan Yang Maha Esa menurut dasar kemanusiaan Yang adil dan beradab. Oleh\n",
            " \n",
            "karena itu, Undang-Undang Dasar harus mengandung isi Yang mewajibkan pemerintah \n",
            "dan\n",
            " \n",
            "lain-lain penyelenggara negara untuk memelihara budi pekerti kemanusiaan yang luhur \n",
            "dan\n",
            " \n",
            "memegang teguh cita-cita moral rakyat yang luhur.\n",
            " \n",
            " \n",
            "III. Undang-undang Dasar menciptakan pokok-pokok pikiran yang terkandung dalam\n",
            " \n",
            "pembukaan dalam pasal-pasalnya.\n",
            " \n",
            " \n",
            "Pokok-pokok pikiran tersebut meliputi suasana kebatinan dari Undang-Undang Dasar \n",
            "Negara\n",
            " \n",
            "Indonesia. Pokok-pokok pikiran ini mewujudkan\n",
            " \n",
            "cita-cita hukum (Reichtsidee) Yang \n",
            "menguasai\n",
            " \n",
            " \n",
            "hukum dasar negara, baik hukum Yang tertulis (Undang-Undang, Dasar) maupun hukum \n",
            "Yang\n",
            " \n",
            "tidak tertulis.\n",
            " \n",
            "Undang-Undang Dasar menciptakan pokok-pokok pikiran ini dalam pasal-pasalnya.\n",
            " \n",
            " \n",
            "IV. Undang-Undang dasar bersifat singkat dan supel\n",
            " \n",
            " \n",
            "Undang-Undang Dasar hanya memuat 37 pasal. Pasal-pasal lain hanya memuat peralihan \n",
            "dan\n",
            " \n",
            "tambahan. Maka rencana ini sangat singkat jika dibandingkan misalnya dengan Undang- \n",
            "Undang Dasar Filipina.\n",
            " \n",
            " \n",
            "Maka telah cukup jikalau Undang-Undang Dasar hanya memuat aturan-aturan , pokok \n",
            "hanya\n",
            " \n",
            "memuat garis-garis besar sebagai instruksi kepada pemerintah Pusat dan lain-lain \n",
            "penyelenggara negara untuk menyelenggarakan kehidupan negara dan kesejahteraan \n",
            "sosial. Terutama bagi negara baru dan negara muda, lebih baik hukum dasar yang tertulis \n",
            "\n",
            "itu hanya memuat aturan-aturan pokok, sedang aturan-aturan yang menyelenggarakan \n",
            "aturan pokok itu diserahkan kepada undang-undang yanglehih mudah caranya membuat, \n",
            "merubah, dan mencabut.\n",
            " \n",
            " \n",
            "Demikianlah sistem Undang-Undang Dasar.\n",
            " \n",
            " \n",
            "Kita harus senantiasa ingat kepada dinamika kehidupan masyarakat dan negara \n",
            "Indonesia.\n",
            " \n",
            "Masyarakat dan negara Indonesia tumbuh, dan berubah, terutama pada zaman revolusi \n",
            "lahir\n",
            " \n",
            "batin sekarang ini. Oleh karena itu. kita harus hidup secara dinamis\n",
            ", harus melihat segala\n",
            " \n",
            "gerak gerik kehidupan masyarakat dan negara Indonesia. Berhubung dengan itu, \n",
            "janganlah\n",
            " \n",
            "tergesa-gesa memberi kristalisasi, memberi bentuk (Gestaltung) kepada pikiran-pikiran \n",
            "yang\n",
            " \n",
            "masih mudah berubah.\n",
            " \n",
            " \n",
            "Memang sifat aturan yang tertulis\n",
            " \n",
            "itu mengikat. Oleh karena Itu makin \"supel\" (elastic)\n",
            " \n",
            "sifatnya aturan itu makin baik. Jadi kita harus menajga supaya sistem Undang-Undang \n",
            "Dasar\n",
            " \n",
            "jangan sampai ketinggalan zaman. Jangan sampai kita membikin undan-gundang yang \n",
            "lekas\n",
            " \n",
            "usang (verouderd). Yang sangat penting dalam pemerintahan dan dalam hal hidupnya \n",
            "negara\n",
            " \n",
            "lalah semangat, semangat Para penyelenggara negara, semangat Para pemimpin\n",
            " \n",
            "pemerintahan. Meskipun dibikin Undang-Undang Dasar yang menurut kata-katanya \n",
            "bersifat\n",
            " \n",
            "kekeluargaan, apabila semangat Para penyelenggara negara, Para pemimpin \n",
            "pemerintahan itu\n",
            " \n",
            "bersifat perseorangan, Undang-Undang Dasar tadi tentu tidak ada artinya dalam praktek.\n",
            " \n",
            " \n",
            "Sebaliknya, meskipun Undang-Undang Dasar itu tidak sempurna, akan tetapi jikalau \n",
            "semangat\n",
            " \n",
            "Para penyelenggara pemerintahan baik, Undang-Undang Dasar itu tentu tidak akan \n",
            "merintangi\n",
            " \n",
            "jalannya negara. Jadi yang paling penting ialah semangat. Maka semangat Itu hidup, atau\n",
            " \n",
            "dengan lain perkataan dinamis. Berhubung dengan itu, hanya aturan-aturan pokok saja \n",
            "harus\n",
            " \n",
            "ditetapkan dalam Undang-Undang Dasar, sedangkan hal-hal yang perlu untuk\n",
            " \n",
            "menyelenggarakan aturan-aturan pokok itu harus diserahkan kepada undang-undang.\n",
            " \n",
            " \n",
            "SISTEM PEMERINTAHAN NEGARA\n",
            " \n",
            " \n",
            "Sistem pemerintahan negara yang ditegaskan dalam Undang-Undang Dasar ialah:\n",
            " \n",
            " \n",
            "I.Indonesia ialah negara yang berdasar atas hukum (rechtsstaat).\n",
            " \n",
            "\n",
            " \n",
            "1. Negara Indonesia berdasar atas hukum, (rechtsstaat), tidak berdasarkan\n",
            " \n",
            "kekuasaan belaka (Machtsstaat).\n",
            " \n",
            " \n",
            "II Sistem Konstitusional.\n",
            " \n",
            " \n",
            "2. Pemerintahan berdasar atas sistem konstitusi (hukum dasar) \n",
            "tidak bersifat\n",
            " \n",
            "absolutisme (kekuasaan yang tidak terbatas).\n",
            " \n",
            " \n",
            "III. Kekuasaan Negara yang tertinggi di tangan Majelis Permusyawaratan Rakyat\n",
            " \n",
            "(Die gezatnte Staatgewalt liegi allein bei der Majelis).\n",
            " \n",
            " \n",
            "3. Kedaulatan Rakyat dipegang oleh suatu badan, bernama Majelis Permusyawaratan \n",
            "Rakyat,\n",
            " \n",
            "sebagai penjelmaan seluruh rakyat Indonesia (Vertretungsorgan des Willens des\n",
            " \n",
            "Staatsvolkes). Majelis ini menetapkan Undang-Undang Dasar dan menetapkan garis-garis\n",
            " \n",
            "besar haluan negara. Majelis ini mengangkat Kepala Negara (Presiden) dan Wakil Kepala\n",
            " \n",
            "Negara (Wakil Presiden). Majelis inilah yang memegang kekuasaan negara yang \n",
            "tertinggi,\n",
            " \n",
            "sedang Presiden harus menjalankan haluan negara menurut garis-garis besar yang telah\n",
            " \n",
            "ditetapkan oleh Majelis. Presiden yang diangkat oleh Majelis, \n",
            "bertunduk dan bertanggung\n",
            " \n",
            "jawab kepada Majelis. Ia ialah \"mandataris\" dari Majells. Ia berwajib menjalankan \n",
            "putusanputusan Majelis.\n",
            " \n",
            " \n",
            "Presiden tidak \"neben\", akan tetapi \"untergeordnet\" kepada Majelis.\n",
            " \n",
            " \n",
            "IV.Presiden ialah penyelenggara pemerintah Negara yang\n",
            " \n",
            "tertinggi di bawah Majelis.\n",
            " \n",
            "DI bawah Majelis Permusyawaratan Rakyat, Presid en ialah penyelenggara pemerintah \n",
            "negara\n",
            " \n",
            "yang tertinggi. Dalam menjalankan pemerintahan negara, kekuasaan dan tanggung jawab \n",
            "adalah di tangan Presiden (concentration of power and \n",
            "responssibility upon the \n",
            "President).\n",
            " \n",
            " \n",
            "V. Presiden tidak bertanggungjawab kepada Dewan Perwakilan Rakyat.\n",
            " \n",
            " \n",
            "Di sampingnya Presiden adalah Dewan Perwakilan Rakyat.\n",
            " \n",
            "Presiden harus mendapat persetujuan Dewan Perwakilan Rakyat untuk membentuk \n",
            "undang-undang (Gesetzgebung) dan untuk menetapkan anggaran pendapatan dan belanja \n",
            "negara\n",
            " \n",
            "(Staatsbegrooting).\n",
            " \n",
            " \n",
            "Oleh karena itu, Presiden harus bekerja bersama-sama dengan Dewan, akan tetapi \n",
            "Presiden\n",
            " \n",
            "tidak bertanggung jawab kepada Dewan, artinya kedudukan Presiden tidak tergantung \n",
            "dari\n",
            " \n",
            "pada Dewan.\n",
            " \n",
            "\n",
            " \n",
            "VI. Menteri Negara ialah pembantu Presiden; Menteri Negara tidak Bertanggung jawab \n",
            "kepada\n",
            " \n",
            "Dewan Perwakilan Rakyat.\n",
            " \n",
            " \n",
            "Presiden mengangkat dan memperhentikan menteri-menteri negara. Menteri-menteri itu \n",
            "tidak\n",
            " \n",
            "bertanggungjawab kepada Dewan Perwakilan Rakyat.\n",
            " \n",
            "Kedudukannya tidak tergantung dari pada Dewan, akan tetapi tergantung dari pada \n",
            "Presiden.\n",
            " \n",
            "Mereka ialah pembantu Presiden.\n",
            " \n",
            " \n",
            "VI\n",
            ".\n",
            "I Kekuasaan Kepala Negara tidak tak terbatas.\n",
            " \n",
            " \n",
            "Meskipun Kepala Negara tidak bertanggungjawab kepada Dewan Perwakilan Rakyat, ia \n",
            "bukan\n",
            " \n",
            "\"diktator\", artinya kekuasaan tidak tak terbatas.\n",
            " \n",
            "Diatas telah ditegaskan bahwa ia bertanggung jawab kepada Majelis Permusyawaratan\n",
            " \n",
            "Rakyat. Kecuali itu ia harus memperhatikan sungguh-sungguh suara Dewan Perwakilan\n",
            " \n",
            "Rakyat.\n",
            " \n",
            " \n",
            "Kedudukan Dewan Perwakilan Rakyat adalah kuat.\n",
            " \n",
            " \n",
            "Kedudukan Dewan Perwakilan Rakyat adalah kuat. Dewan ini tidak bisa dibubarkan oleh\n",
            " \n",
            "Presiden (berlainan dengan sistem parlementer). Kecuali itu anggota -anggota Dewan\n",
            " \n",
            "Perwakilan Rakyat semuanya merangkap menjadi anggota Majelis Permusyavvaratan \n",
            "Rakyat.\n",
            " \n",
            "Oleh karena itu, Dewan Perwakilan Rakyat dapat senantiasa mengawasi tindakan-tindakan\n",
            " \n",
            "Presiden dan jika Dewan menganggap bahwa Presiden sungguh melanggar haluan negara\n",
            " \n",
            "yang telah ditetapkan oleh Undang-Undang Dasar atau\n",
            " \n",
            "oleh Majelis Pennusyawaratan \n",
            "Rakyat,\n",
            " \n",
            "maka Majelis itu dapat diundang untuk persidangan istimewa agar supaya bisa minta\n",
            " \n",
            "pertanggungan jawab kepada Presiden.\n",
            " \n",
            " \n",
            "Menteri-menteri negara bukan pengawal tinggi biasa.\n",
            " \n",
            " \n",
            "Meskipun kedudukan menteri negara tergantung \n",
            "dari pada Presiden, akan tetapi mereka\n",
            " \n",
            "bukan pegawai tinggi biasa oleh karena menteri-menterilah yang, terutama menjalankan\n",
            " \n",
            "kekuasaan pemerintah (pouvoir executif) dalam praktek.\n",
            " \n",
            "Sebagai pemimpin departemen, menteri mengetahui seluk-beluk hal-hal yang mengenai\n",
            " \n",
            "lingkungan pekerjaannya. Berhubung dengan menteri mempunyai pengaruh besar \n",
            "terhadap\n",
            " \n",
            "Presiden dalam menentukan politik negara yang mengenai departemennya. Memang, \n",
            "yang\n",
            " \n",
            "dimaksudkan ialah, para menteri itu pmnimpin pemimpin negara.\n",
            " \n",
            "\n",
            "Untuk menetapkan politik pemerintah dan koordinasi dalam pemerintahan negara, para\n",
            " \n",
            "menteri bekerja bersama satu sama lain seerat-eratnya dibawah pimpinan Presiden.\n",
            " \n",
            " \n",
            "BAB I\n",
            " \n",
            "BENTUK DAN KEDAULATAN NEGARA\n",
            " \n",
            "Pasal 1\n",
            " \n",
            "Menetapkan bentuk Negara Kesatuan dan Republik mengandung isi pokok pikiran \n",
            "kedaulatan\n",
            " \n",
            "rakyat.\n",
            " \n",
            "Majelis Permusyawaratan Rakyat ialah penyelenggara negara yang tertinggi.\n",
            " \n",
            "Majelis ini diangogap sebagai penjelmaan rakyat yang memegang kedaulatan negara.\n",
            " \n",
            "BAB II\n",
            " \n",
            "MAJELIS PERMUSYAWARATAN RAKYAT\n",
            " \n",
            "Pasal 2\n",
            " \n",
            "Maksudnya ialah supaya seluruh\n",
            " \n",
            "rakyat, seluruh golongan. seluruh daerah akan \n",
            "mempunyai\n",
            " \n",
            "wakil dalam Majelis sehingga Majelis itu akan betul-betul dapat dianggap sebagai \n",
            "penjelmaan\n",
            " \n",
            "rakyat.\n",
            " \n",
            "Yang disebut \"golongan- \n",
            "golongan\" ialah badan-badan seperti koperasi serikat pekeria, \n",
            "dan\n",
            " \n",
            "lain-lain\n",
            " \n",
            "badan kolektif. Aturan demikian memang sesuai dengan aliran zaman. \n",
            "Berhubung\n",
            " \n",
            "dengan anjuran mengadakan sistem koperasi dalam ekonomi, maka ayat ini mengingat \n",
            "akan\n",
            " \n",
            "adanya golongan-golongan dalam badang badan ekonomi.\n",
            " \n",
            "Ayat 2\n",
            " \n",
            "Badan yang akan besar jumlahnya \n",
            "bersidang sedikit-sedikitnya sekali dalam 5 tahun. \n",
            "Sedikitsedikitnya,\n",
            " \n",
            "jadi kalau perlu dalam 5 tahun tentu boleh bersidang lebih dari sekali dengan\n",
            " \n",
            "mengadakan persidangan istimewa.\n",
            " \n",
            "Pasal 3\n",
            " \n",
            "Oleh Karena Maelis Permusyawaratan Rakyat memegang, kedaulatan negara, maka\n",
            " \n",
            "kekuasaannya tidak terbatas, mengingat dinamik masyarakat, sekali dalam 5 tahun \n",
            "Majelis\n",
            " \n",
            "memperhatikan segala yang terjadi dan segala aliran-aliran pada waktu itu dan \n",
            "menentukan\n",
            " \n",
            "haluan-haluan apa yang hendaknya dipakai untuk dikemudian hari.\n",
            " \n",
            "BAB III\n",
            " \n",
            "KEKUASAAN PEMERINTAHAN NEGARA\n",
            " \n",
            "Pasal 4 dan pasal 5 ayat 2\n",
            " \n",
            "Presiden Ialah kepala Kekuasaan eksekutif dalam negara. Untuk menjalankan undang-undang,\n",
            " \n",
            "ia mempunyai kekuasaan untuk menetapkan peraturan pemerintah (pouvoir reglementair)\n",
            " \n",
            "Pasal 5 ayat 1\n",
            " \n",
            "Kecuali executive power, Presiden bersama -sama dengan Dewan Perwakilan Rakyat\n",
            " \n",
            "\n",
            "menjalankan legislative power dalam negara.\n",
            " \n",
            "Pasal-pasal 6, 7, 8, 9\n",
            " \n",
            "Telah,jelas.\n",
            " \n",
            "Pasal-pasal 10, 11, 12, 13, 14, 15\n",
            " \n",
            "Kekuasaan-kekuasaan Presiden dalam pasal-pasal ini ialah konsekuensi dari kedudukan\n",
            " \n",
            "Presiden sebagai Kepala Negara.\n",
            " \n",
            "BAB IV\n",
            " \n",
            "DEWAN PERTIMBANGAN AGUNG\n",
            " \n",
            "Pasal 16\n",
            " \n",
            "Dewan ini ialah sebuah Counci1 of State yang berwajib memberi Pertirnbangan-pertimbangan\n",
            " \n",
            "kepada pemerintah. Ia sebuah badan penasehat belaka.\n",
            " \n",
            "BAB V\n",
            " \n",
            "KEMENTERIAN NEGARA\n",
            " \n",
            "Pasal 17\n",
            " \n",
            "Lihatlah di atas.\n",
            " \n",
            "BAB VI\n",
            " \n",
            "PEMERINTAHAN DAERAH\n",
            " \n",
            "Pasal 18\n",
            " \n",
            "I. Olehkarena Negara Indonesia itu suatu eenheidsstaat, maka Indonesia tak akan \n",
            "mempunyai\n",
            " \n",
            "daerah di dalam lingkungannya yang bersifat staatjuga.\n",
            " \n",
            "Daerah Indonesia akan dibagi dalam daerah propinsi \n",
            "dan daerah propinsi akan dibagi \n",
            "pula\n",
            " \n",
            "dalam daerah yang lebih kecil.\n",
            " \n",
            "Di daerah-daerah yang bersifat otonom (streek dan locale rechtsgemeenschappen) atau\n",
            " \n",
            "bersifat daerah administrasi belaka, semuanya menurut aturan yang akan ditetapkan \n",
            "dengan\n",
            " \n",
            "undang-undang.\n",
            " \n",
            "Di daerah-daerah yang bersifat otonom akan diadakan badan perwakilan daerah, oleh \n",
            "karena\n",
            " \n",
            "di daerah pun pemerintahan akan bersendi atas dasar permusyawaratan.\n",
            " \n",
            "II. Dalam territoir Negara Indonesia terdapat lebih kurang 250 zelfbesturende \n",
            "landchappen\n",
            " \n",
            "dan volksgetneenschappen, seperti desa di Jawa dan Bali, negeri di Minangkabau, dusun \n",
            "dan\n",
            " \n",
            "marga di Palembang dan sebagainya. Daerah-daerah itu mempunyai susunan asli, dan \n",
            "oleh\n",
            " \n",
            "karenanya dapat dianggap sebagai daerah yang bersifat istimewa.\n",
            " \n",
            "Negara Republik Indonesia menghormati kedudukan daerah-daerah istimewa tersebut \n",
            "dan\n",
            " \n",
            "segala peraturan negara yang mengenai daerah-daerah itu akan mengingati hak-hak asal-usul\n",
            " \n",
            "daerah tersebut.\n",
            " \n",
            "BAB VII\n",
            " \n",
            "DEWAN PERWAKILAN RAKYAT\n",
            " \n",
            "\n",
            "Pasal-pasal 19, 20, 21, dan 23\n",
            " \n",
            "Lihatlah diatas.\n",
            " \n",
            "Dewan ini\n",
            " \n",
            "harus memberi persetujuannya kepada tiap-tiap rancangan undang-undang dari\n",
            " \n",
            "pemerintah. Pun Dewan mempunyai hak inisiatif untuk menetapkan undang-undang.\n",
            " \n",
            "III. Dewan ini mempunyai juga hak begrooting pasal 23.\n",
            " \n",
            "Dengan ini, Dewan Perwakilan Rakyat mengontrol \n",
            "pemerintah.\n",
            " \n",
            "Harus diperingati pula bahwa semua anggota Dewan ini merangkap menjadi anggota \n",
            "Majelis\n",
            " \n",
            "Permusyawaratan Rakyat.\n",
            " \n",
            "Pasal 22\n",
            " \n",
            "Pasal ini mengenai noodverordeningsrecht Presiden. Aturan sebagal ini memang perlu\n",
            " \n",
            "diadakan agar supaya keselamatan negara dapat dijamin oleh pemerintah dalam keadaan\n",
            " \n",
            "yang genting, yang memaksa pemerintah untuk bertindak lekas dan tepat. Meskipun\n",
            " \n",
            "demikian, pemerintah tidak akan terlepas dari pengawasan Dewan Perwakilan Rakyat. \n",
            "Oleh\n",
            " \n",
            "karena itu, peraturan pemerintah dalam pasal ini, yang kekuatannya sama dengan \n",
            "undangundang\n",
            " \n",
            "harus disahkan pula oleh Dewan Perwakilan Rakyat.\n",
            " \n",
            "BAB VIII\n",
            " \n",
            "HAL KEUANGAN\n",
            " \n",
            "Pasal 23 ayat 1, 2, 3, 4\n",
            " \n",
            "Ayat I memuat hak begrooting Dewan Perwakilan Rakyat.\n",
            " \n",
            "Cara menetapkan anggaran pendapatan dan belanja adalah suatu ukuran bagi sifat\n",
            " \n",
            "pemerintahan negara. Dalam negara yang berdasarkan fascisme, anggaran itu ditetapkan\n",
            " \n",
            "semata-mata oleh pemerintah. Tetapi dalam negara demokrasi atau dalam negara yang\n",
            " \n",
            "berdasarkan kedaulatan rakyat, seperti Republik Indonesia, anggaran pendapatan dan \n",
            "belanja\n",
            " \n",
            "itu ditetapkan dengan undang-undang. Artinya dengan persetujuan Dewan Perwakilan \n",
            "Rakyat.\n",
            " \n",
            "Betapa caranya rakyat sebagai bangsa akan hidup dan dari mana didapatnya belanja buat\n",
            " \n",
            "hidup, harus ditetapkan oleh rakyat itu sendiri, dengan perantaraan dewan perwakilannya.\n",
            " \n",
            "Rakyat menentukan nasibnya sendiri, karena itu juga cara hidupnya.\n",
            " \n",
            "Pasal 23 menyatakan bahwa dalam hal menetapkan pendapatan dan belanja, kedudukan\n",
            " \n",
            "Dewan Perwakilan Rakyat lebih kuat daripada kedudukan pernerintah. Ini tanda \n",
            "kedaulatan\n",
            " \n",
            "rakyat.\n",
            " \n",
            "Oleh karena penetapan belanja mengenai hak rakyat untuk menentukan nasibnya sendiri,\n",
            " \n",
            "maka segala tindakan yang menempatkan beban kepada rakyat, seperti pajak dan \n",
            "lainlainnya,\n",
            " \n",
            "harus ditetapkan dengan undang-undang yaitu dengan persetujuan \n",
            "Dewan Perwakilan\n",
            " \n",
            "Rakyat.\n",
            " \n",
            "Juga tentang hal macam dan harga mata uang ditetapkan dengan undang-undang. Ini \n",
            "penting\n",
            " \n",
            "karena kedudukan uang itu besar pengaruhnya atas masyarakat. Uang terutama adalah \n",
            "alat\n",
            " \n",
            "\n",
            "penukar dan pengukur harga. Sebagai alat penukar untuk memudahkan pertukaran jual-beli\n",
            " \n",
            "dalam masyarakat. Berhubung dengan itu perlu ada macam dan rupa uang yang \n",
            "diperlukan\n",
            " \n",
            "oleh rakyat sebagai pengukur harga untuk dasar menetapkan harga masing-masing barang\n",
            " \n",
            "yang dipertukarkan. Barang yang menjadi pengukur harga \n",
            "itu, mestilah tetap harganya,\n",
            " \n",
            "jangan naik turun karena keadaan uang yang tidak teratur. Oleh karena itu, keadaan uang \n",
            "itu\n",
            " \n",
            "harus ditetapkan dengan undang-undang.\n",
            " \n",
            "Berhubung dengan itu, kedudukan Bank Indonesia yang akan mengeluarkan dan \n",
            "mengatur\n",
            " \n",
            "peredaran uang kertas, ditetapkan dengan undang-undang.\n",
            " \n",
            "Ayat 5\n",
            " \n",
            "Cara pemerintah mempergunakan uang belanja yang sudah disetujui oleh Dewan \n",
            "Perwakilan\n",
            " \n",
            "Rakyat, harus sepadan dengan keputusan tersebut. Untuk memeriksa tanggung jawab\n",
            " \n",
            "pernerintah itu perlu ada suatu badan yang terlepas dari pengaruh dan kekuasaan\n",
            " \n",
            "pemerintah. Suatu badan yang tunduk kepada pemerintah tidak dapat melakukan \n",
            "kewajiban\n",
            " \n",
            "yang seberat itu. Sebaliknya badan itu bukanlah pula badan yang berdiri di atas \n",
            "pemerintah.\n",
            " \n",
            "Sebab itu kekuasaan dan kewajiban badan itu ditetapkan dengan undangundang.\n",
            " \n",
            "BAB IX\n",
            " \n",
            "KEKUASAAN KEHAKIMAN\n",
            " \n",
            "Pasal 24 dan 25\n",
            " \n",
            "Kekuasaan kehakiman ialah kekuasaan yang merdeka, artinya terlepas dari pengaruh\n",
            " \n",
            "kekuasaan pemerintah. Berhubung dengan itu, harus diadakan jaminan dalam undang-undang\n",
            " \n",
            "tentang kedudukan para hakim.\n",
            " \n",
            "BAB X\n",
            " \n",
            "WARGANEGARA\n",
            " \n",
            "Pasal 26\n",
            " \n",
            "Ayat 1\n",
            " \n",
            "Orang-orang bangsa lain, misalnya orang peranakan Belanda, peranakan Tionghoa, dan\n",
            " \n",
            "peranakan Arab yang bertempat kedudukan di Indonesia, mengakui Indonesia sebagai \n",
            "tanah\n",
            " \n",
            "aimya dan bersikap setia kepada Negara, Republik Indonesia dapat menjadi warga \n",
            "negara.\n",
            " \n",
            "Ayat 2\n",
            " \n",
            "Pasal 27, 30, 31, ayat 1\n",
            " \n",
            "Telah jelas.\n",
            " \n",
            "Pasal-pasal ini mengenai hak-hak warga negara.\n",
            " \n",
            "Pasal 28, 29, ayat 1, 34\n",
            " \n",
            "Pasal ini mengenai kedudukan penduduk.\n",
            " \n",
            "Pasal-pasal, baik yang hanya mengenai warga negara maupun yang mengenai seluruh\n",
            " \n",
            "penduduk membuat hasrat bangsa Indonesia untuk membangunkan negara yang bersifat\n",
            " \n",
            "\n",
            "demokratis dan yang hendak menyelenggarakan keadilan sosial dan perikemanusian.\n",
            " \n",
            "BAB X1\n",
            " \n",
            "AGAMA\n",
            " \n",
            "Pasal 29 ayat I\n",
            " \n",
            "Ayat ini menyatakan kepercayaan bangsa Indonesia terhadap Tuhan Yang Maha Esa.\n",
            " \n",
            "BAB XII\n",
            " \n",
            "PERTAHANAN NEGARA\n",
            " \n",
            "Pasal 30\n",
            " \n",
            "Telah jelas.\n",
            " \n",
            "BAB XIII\n",
            " \n",
            "PENDIDIKAN\n",
            " \n",
            "Pasal 31 ayat 2\n",
            " \n",
            "Telah jelas.\n",
            " \n",
            "Pasal 32\n",
            " \n",
            "Kebudayaan bangsa ialah kebudayaan yang timbul sebagai buah usaha budinya rakyat\n",
            " \n",
            "Indonesia seluruhnya.\n",
            " \n",
            "Kebudayaan lama dan asli yang terdapat sebagai puncak-puncak kebudayaan di \n",
            "daerahdaerah\n",
            " \n",
            "di seluruh Indonesia, terhitung sebagai kebudayaan bangsa. Usaha kebudayaan harus\n",
            " \n",
            "menuju kearah kemajuan adab, budaya, persatuan, dengan tidak menolak bahan-bahan \n",
            "baru\n",
            " \n",
            "dari kebudayaan asing yang dapat memperkembangkan atau memperkaya kebudayaan\n",
            " \n",
            "bangsa sendiri, serta mempertinggi derajat kemanusian bangsa Indonesia.\n",
            " \n",
            "BAB XIV\n",
            " \n",
            "KESEJEHTERAAN SOSIAL\n",
            " \n",
            "Pasal 33\n",
            " \n",
            "Dalam pasal 33 tercanturn dasar demokrasi, ekonomti produksi dikerjakan oleh semua, \n",
            "untuk\n",
            " \n",
            "semua dibawah pimpinan atau penilikan anggota-anggota masya rakat. Kemakmuran\n",
            " \n",
            "masyarakatlah yang diutamakan, bukan kemakmuran orang-seorang. Sebab itu \n",
            "perekonmian\n",
            " \n",
            "disusun sebagai usaha bersama berdasar atas asas kekeluargaan. Bangun perusahaan yang\n",
            " \n",
            "sesuai dengan itu ialah koperasi.\n",
            " \n",
            "Perekonomian berdasar atas demokrasi ekonomi, kemakmuran bagi semua orang! Sebab \n",
            "itu\n",
            " \n",
            "cabang-cabang produksi yang penting bagi negara dan yang menguasai hidup orang \n",
            "banyak\n",
            " \n",
            "harus dikuasai oleh negara. Kalau tidak, tampuk produksi jatuh ketangan orang seorang \n",
            "yang\n",
            " \n",
            "berkuasa dan rakyat yang banyak ditindasinya.\n",
            " \n",
            "Hanya perusahaan yang tidak menguasai hajat hidup orang banyak boleh ada ditangan \n",
            "orangseorang.\n",
            " \n",
            "Bumi dan air dan kekayaan alam yang terkandung dalam bumi adalah pokok pokok\n",
            " \n",
            "kemakmuran rakyat. Sebab itu harus dikuasai oleh negara dan dipergunakan untuk \n",
            "sebesarbesar\n",
            " \n",
            "kemakmuran rakyat.\n",
            " \n",
            "\n",
            "Pasal 34\n",
            " \n",
            "Telah cukup jelas, lihat diatas.\n",
            " \n",
            "BAB XV\n",
            " \n",
            "BENDERA DAN BAHASA\n",
            " \n",
            "Pasal 35\n",
            " \n",
            "Telah jelas.\n",
            " \n",
            "Pasal 36\n",
            " \n",
            "Telah jelas.\n",
            " \n",
            "D1 daerah-daerah yang mempunyai bahasa sendiri, yang dipelihara oleh rakyatnya \n",
            "dengan\n",
            " \n",
            "baik-balk (misalnya bahasa Jawa, Sunda, Madura, dan sebagainya) bahasa-bahasa itu \n",
            "akan\n",
            " \n",
            "dihormati dan dipeliharajuga oleh negara.\n",
            " \n",
            "Bahasa-bahasa itu pun merupakan sebagian dari kebudayaan Indonesia yang hidup.\n",
            " \n",
            "BAB XVI\n",
            " \n",
            "PERUBARAN UNDANG-UNDANG DASAR\n",
            " \n",
            "Pasal 37\n",
            " \n",
            "Telah jelas.\n",
            " \n",
            " \n",
            " \n",
            " \n",
            "(\n",
            "Naskah Sesuai Lembaran Negara Republik Indonesia, No. 75, 1959\n",
            ")\n",
            " \n",
            "\n"
          ],
          "name": "stdout"
        }
      ]
    },
    {
      "cell_type": "markdown",
      "metadata": {
        "id": "tbAxFEfNJ0SG"
      },
      "source": [
        "## 2.0 - Tokenisasi\n",
        "Tokenisasi adalah proses membagi teks yang berupa kalimat, paragraf atau dokumen, menjadi bagian-bagian tertentu.\n",
        "\n",
        "Misal: \n",
        "- Kalimat dipisah-pisah menjadi kumpulan kata.\n",
        "- Paragraf dipisah-pisah menjadi kumpulan kalimat.\n",
        "- Dokumen dipisah-pisah menjadi kumpulan paragraf.\n",
        "\n",
        "Hasil tokenisasi kemudian dipakai untuk proses analisis teks."
      ]
    },
    {
      "cell_type": "code",
      "metadata": {
        "colab": {
          "base_uri": "https://localhost:8080/"
        },
        "id": "8lW7pg90zUzS",
        "outputId": "4f6bdb54-6170-4146-ac21-0d9fb5e205dd"
      },
      "source": [
        "import nltk\n",
        "# Download package untuk tanda baca dan stopwords\n",
        "nltk.download(\"punkt\")\n",
        "nltk.download(\"stopwords\")"
      ],
      "execution_count": null,
      "outputs": [
        {
          "output_type": "stream",
          "text": [
            "[nltk_data] Downloading package punkt to /root/nltk_data...\n",
            "[nltk_data]   Unzipping tokenizers/punkt.zip.\n",
            "[nltk_data] Downloading package stopwords to /root/nltk_data...\n",
            "[nltk_data]   Unzipping corpora/stopwords.zip.\n"
          ],
          "name": "stdout"
        },
        {
          "output_type": "execute_result",
          "data": {
            "text/plain": [
              "True"
            ]
          },
          "metadata": {
            "tags": []
          },
          "execution_count": 5
        }
      ]
    },
    {
      "cell_type": "code",
      "metadata": {
        "id": "qDqsNbRWNvXn"
      },
      "source": [
        "# Ubah teks menjadi kumpulan kata\n",
        "# .lower() supaya teks jadi lowercase\n",
        "uud45_tokens = nltk.tokenize.word_tokenize( uud45_clean.lower() ) \n",
        "\n",
        "# Filter tanda baca dengan list comprehension\n",
        "# ambil semua kata yang termasuk alpanumerik .isalnum()\n",
        "uud45_tokens = [word for word in uud45_tokens if word.isalnum()]"
      ],
      "execution_count": null,
      "outputs": []
    },
    {
      "cell_type": "markdown",
      "metadata": {
        "id": "6C0S1jWqkuSq"
      },
      "source": [
        "## 3.0 - Wrapper Teks nltk\n",
        "Data teks yang sebelumnya sudah di tokenisasi dapat dijadikan argumen untuk membuat instance dalam wrapper **nltk.text.Text()**.\n",
        "\n",
        "Wrapper ini dapat kita pakai untuk melakukan beragam analisis konteks dalam teks.\n",
        "\n",
        "Macam-macam analisis dapat berupa:\n",
        "- *Common Contexts*: Konteks yang dipakai suatu kata.\n",
        "- *Similar* : Kata dengan konteks yang mirip.\n",
        "- *Collocation*: Kata-kata yang sering muncul bersamaan.\n",
        "- dll.\n",
        "\n"
      ]
    },
    {
      "cell_type": "code",
      "metadata": {
        "colab": {
          "base_uri": "https://localhost:8080/"
        },
        "id": "L4g9_GEy1maI",
        "outputId": "1f7a5d93-19cf-4fe9-8a42-b295f2478e9b"
      },
      "source": [
        "# Masukkan kumpulan kata tadi kedalam wrapper nltk.text.Text\n",
        "# Wrapper ini digunakan untuk melakukan eksplorasi pada tokens\n",
        "# yang dimasukkan.\n",
        "uud45_nltk = nltk.text.Text(uud45_tokens)\n",
        "uud45_nltk"
      ],
      "execution_count": null,
      "outputs": [
        {
          "output_type": "execute_result",
          "data": {
            "text/plain": [
              "<Text: dasar negara republik indonesia 1945 pembukaan bahwa sesungguhnya...>"
            ]
          },
          "metadata": {
            "tags": []
          },
          "execution_count": 7
        }
      ]
    },
    {
      "cell_type": "markdown",
      "metadata": {
        "id": "CUySCFLTk-rQ"
      },
      "source": [
        "### 3.1 - Common Contexts: Konteks yang dipakai suatu kata\n",
        "\n"
      ]
    },
    {
      "cell_type": "code",
      "metadata": {
        "id": "bscPJtrnLvNL"
      },
      "source": [
        "# Mencari konteks suatu kata\n",
        "uud45_nltk.common_contexts([\"negara\"])"
      ],
      "execution_count": null,
      "outputs": []
    },
    {
      "cell_type": "markdown",
      "metadata": {
        "id": "gUi7Gv_hx69N"
      },
      "source": [
        "### 3.2 - Similar: Kata dengan konteks yang mirip"
      ]
    },
    {
      "cell_type": "code",
      "metadata": {
        "colab": {
          "base_uri": "https://localhost:8080/"
        },
        "id": "coLY9ObtA1NZ",
        "outputId": "01eac75b-36c6-4b2e-883f-9e59e200d43f"
      },
      "source": [
        "# Mencari kata dengan konteks yang mirip\n",
        "uud45_nltk.similar(\"negara\")"
      ],
      "execution_count": null,
      "outputs": [
        {
          "output_type": "stream",
          "text": [
            "daerah dasar indonesia bangsa dan sebab karena rakyat kebangsaan dalam\n",
            "kemanusiaan kekuasaan presiden keadaan persidangan kebudayaan\n",
            "masyarakat sedangkan lingkungannya\n"
          ],
          "name": "stdout"
        }
      ]
    },
    {
      "cell_type": "markdown",
      "metadata": {
        "id": "S-ZcajEby7uN"
      },
      "source": [
        "### 3.3 - Concordance: Kemunculan kata beserta konteksnya"
      ]
    },
    {
      "cell_type": "code",
      "metadata": {
        "colab": {
          "base_uri": "https://localhost:8080/"
        },
        "id": "bKoLHaDhzN-v",
        "outputId": "15f70805-d723-4715-d087-e90137dbf2ee"
      },
      "source": [
        "# Pencarian kata beserta konteksnya\n",
        "uud45_nltk.concordance(\"negara\")"
      ],
      "execution_count": null,
      "outputs": [
        {
          "output_type": "stream",
          "text": [
            "Displaying 25 of 121 matches:\n",
            "                                    negara republik indonesia 1945 pembukaan b\n",
            " ke depan pintu gerbang kemerdekaan negara indonesia yang merdeka bersatu berd\n",
            "tu untuk membentuk suatu pemerintah negara indonesia yang melindungi segenap b\n",
            "aan indonesia itu dalam suatu dasar negara indonesia yang terbentuk dalam suat\n",
            " yang terbentuk dalam suatu susunan negara republik indonesia yang berkedaulat\n",
            "b i bentuk dan kedaulatan pasal 1 1 negara indonesia ialah negara kesatuan yan\n",
            "an pasal 1 1 negara indonesia ialah negara kesatuan yang berbentuk republik 2 \n",
            " sekali dalam lima tahun di ibukota negara 3 segala putusan majelis permusyawa\n",
            "kan dasar dan besar dari ada haluan negara bab iii kekuasaan pemerintah negara\n",
            "negara bab iii kekuasaan pemerintah negara pasal 4 1 presiden republik indones\n",
            "at perdamaian dan perjanjian dengan negara lain pasal 12 presiden menyatakan k\n",
            "dan konsul 2 presiden menerima duta negara lain pasal 14 presiden memberi gras\n",
            "kepada pemerintah bab v kementerian negara pasal 17 1 presiden dibantu oleh ne\n",
            "ra pasal 17 1 presiden dibantu oleh negara 2 itu diangkat dan diperhentikan ol\n",
            "yawaratan dalam sistem pemerintahan negara dan dalam yang bersifat istimewa ba\n",
            "lalu 2 segala pajak untuk keperluan negara berdasarkan 3 macam dan harga mata \n",
            "ng ditetapkan dengan 4 hal keuangan negara selanjutnya diatur dengan 5 untuk m\n",
            "ksa tanggung jawab tentang keuangan negara diadakan suatu badan pemeriksa keua\n",
            "hakim ditetapkan dengan bab x warga negara pasal 26 1 yang menjadi warga negar\n",
            "egara pasal 26 1 yang menjadi warga negara ialah bangsa indonesia asli dan ban\n",
            " yang disahkan dengan sebagai warga negara 2 yang mengenai kewarganegaraan dit\n",
            "pkan dengan pasal 27 1 segala warga negara bersamaan kedudukannya dalam hukum \n",
            "dengan tidak ada kecualinya 2 warga negara berhak atas pekerjaan dan penghidup\n",
            "pkan dengan bab xi agama pasal 29 1 negara berdasar atas ketuhanan yang maha e\n",
            "asar atas ketuhanan yang maha esa 2 negara menjamin kemerdekaan penduduk untuk\n"
          ],
          "name": "stdout"
        }
      ]
    },
    {
      "cell_type": "markdown",
      "metadata": {
        "id": "JcJ3_4M3yTgp"
      },
      "source": [
        "### 3.4 - Collocations: Kata-kata yang sering muncul bersamaan"
      ]
    },
    {
      "cell_type": "code",
      "metadata": {
        "colab": {
          "base_uri": "https://localhost:8080/"
        },
        "id": "0fEhNMwPQ3UV",
        "outputId": "11e9810e-adec-4987-f40c-7e5f37025fc8"
      },
      "source": [
        "# Mencari dua kata yang sering muncul bersama\n",
        "uud45_nltk.collocations()"
      ],
      "execution_count": null,
      "outputs": [
        {
          "output_type": "stream",
          "text": [
            "dewan perwakilan; perwakilan rakyat; majelis permusyawaratan;\n",
            "permusyawaratan rakyat; berdasar atas; ditetapkan dengan; oleh karena;\n",
            "republik indonesia; telah jelas; wakil presiden; warga negara;\n",
            "keadilan sosial; persetujuan dewan; maha esa; pertimbangan agung; akan\n",
            "tetapi; hanya memuat; berhubung dengan; dari pada; bertanggung jawab\n"
          ],
          "name": "stdout"
        }
      ]
    },
    {
      "cell_type": "markdown",
      "metadata": {
        "id": "eB3oAgJMzfw3"
      },
      "source": [
        "### 3.5 - Lexical Dispersion plot: Sebaran kata dalam teks/dokumen"
      ]
    },
    {
      "cell_type": "code",
      "metadata": {
        "colab": {
          "base_uri": "https://localhost:8080/",
          "height": 295
        },
        "id": "FtKqx7EHGlD-",
        "outputId": "74d5cefe-b588-4a7c-b9c2-4311417f5442"
      },
      "source": [
        "# Mencari tahu sebaran kata dalam teks.\n",
        "# Tiap garis menggambarkan kata\n",
        "# Tiap baris menggambarkan keseluruhan kata (dari awal sampai akhir)\n",
        "uud45_nltk.dispersion_plot([\"dasar\", \"negara\", \"presiden\", \"rakyat\", \"pasal\"])"
      ],
      "execution_count": null,
      "outputs": [
        {
          "output_type": "display_data",
          "data": {
            "image/png": "[encoded data removed]",
            "text/plain": [
              "<Figure size 432x288 with 1 Axes>"
            ]
          },
          "metadata": {
            "tags": [],
            "needs_background": "light"
          }
        }
      ]
    },
    {
      "cell_type": "markdown",
      "metadata": {
        "id": "W1Li2D7dMGYz"
      },
      "source": [
        "## 4.0 Jumlah Kata\n",
        "Selain penelusuran linguistik seperti di atas, kita juga dapat melakukan penelusuran kuantitatif, seperti menghitung jumlah kata yang muncul.\n",
        "\n",
        "Metode ini diperlukan untuk mengetahui kata apa yang sering muncul pada suatu topik atau dokumen tertentu."
      ]
    },
    {
      "cell_type": "code",
      "metadata": {
        "colab": {
          "base_uri": "https://localhost:8080/",
          "height": 314
        },
        "id": "3W8u5PiDML6h",
        "outputId": "0c1bf34e-1393-496f-9a94-44d6ef64d64d"
      },
      "source": [
        "from nltk import FreqDist\n",
        "\n",
        "# UUD45 sebelum amandemen\n",
        "uud45_freq = FreqDist(uud45_tokens)\n",
        "# Tampilkan 10 kata teratas yang sering digunakan.\n",
        "uud45_freq.plot(10)"
      ],
      "execution_count": null,
      "outputs": [
        {
          "output_type": "display_data",
          "data": {
            "image/png": "[encoded data removed]",
            "text/plain": [
              "<Figure size 432x288 with 1 Axes>"
            ]
          },
          "metadata": {
            "tags": [],
            "needs_background": "light"
          }
        }
      ]
    },
    {
      "cell_type": "code",
      "metadata": {
        "colab": {
          "base_uri": "https://localhost:8080/"
        },
        "id": "A1S6WD578J8u",
        "outputId": "1ed15ff1-6d9d-4538-a4b4-eb305a35164f"
      },
      "source": [
        "uud45_freq.most_common(10)"
      ],
      "execution_count": null,
      "outputs": [
        {
          "output_type": "execute_result",
          "data": {
            "text/plain": [
              "[('dan', 137),\n",
              " ('yang', 133),\n",
              " ('negara', 121),\n",
              " ('rakyat', 89),\n",
              " ('dengan', 74),\n",
              " ('itu', 73),\n",
              " ('pasal', 72),\n",
              " ('presiden', 65),\n",
              " ('dalam', 61),\n",
              " ('dasar', 59)]"
            ]
          },
          "metadata": {
            "tags": []
          },
          "execution_count": 14
        }
      ]
    },
    {
      "cell_type": "markdown",
      "metadata": {
        "id": "ij7GLFYQICkt"
      },
      "source": [
        "### 4.1 Membandingkan jumlah kata dari dua sumber teks yang berbeda\n",
        "Sekarang kita coba bandingkan jumlah kata antara UUD45 sebelum dan sesudah amandemen."
      ]
    },
    {
      "cell_type": "code",
      "metadata": {
        "colab": {
          "base_uri": "https://localhost:8080/"
        },
        "id": "eC0fMKJWAZfb",
        "outputId": "25213b00-47a2-4e1e-c2c0-21e9fe075ba3"
      },
      "source": [
        "# Bash command untuk mendownload file pdf\n",
        "!wget https://jdih.mkri.id/mg58ufsc89hrsg/UUD_1945_Perubahan.pdf"
      ],
      "execution_count": null,
      "outputs": [
        {
          "output_type": "stream",
          "text": [
            "--2021-06-08 17:41:44--  https://jdih.mkri.id/mg58ufsc89hrsg/UUD_1945_Perubahan.pdf\n",
            "Resolving jdih.mkri.id (jdih.mkri.id)... 23.212.251.138, 23.212.251.142, 2600:1408:7400::17c8:903a, ...\n",
            "Connecting to jdih.mkri.id (jdih.mkri.id)|23.212.251.138|:443... connected.\n",
            "HTTP request sent, awaiting response... 200 OK\n",
            "Length: 96855 (95K) [application/pdf]\n",
            "Saving to: ‘UUD_1945_Perubahan.pdf’\n",
            "\n",
            "UUD_1945_Perubahan. 100%[===================>]  94.58K  --.-KB/s    in 0.003s  \n",
            "\n",
            "2021-06-08 17:41:44 (28.4 MB/s) - ‘UUD_1945_Perubahan.pdf’ saved [96855/96855]\n",
            "\n"
          ],
          "name": "stdout"
        }
      ]
    },
    {
      "cell_type": "markdown",
      "metadata": {
        "id": "SNU50zFoicHJ"
      },
      "source": [
        "Kita akses teksnya seperti pada langkah pertama diatas"
      ]
    },
    {
      "cell_type": "code",
      "metadata": {
        "colab": {
          "base_uri": "https://localhost:8080/"
        },
        "id": "n2--VYeSF2A2",
        "outputId": "5fb56551-021a-4425-a7ae-d38c80ebe466"
      },
      "source": [
        "# Buat instance pdf reader\n",
        "pdf = open(\"UUD_1945_Perubahan.pdf\", \"rb\")\n",
        "pdf_reader = PyPDF2.PdfFileReader(pdf)\n",
        "\n",
        "# Ambil teks dalam pdf\n",
        "uud45_perubahan = get_pdf_text(pdf_reader)\n",
        "\n",
        "# Rapikan teks pdf-nya\n",
        "uud45_perubahan = format_linespace(uud45_perubahan)\n",
        "\n",
        "# Tokenisasi seperti pada contoh pertama\n",
        "uud45_perubahan_tokens = nltk.tokenize.word_tokenize( uud45_perubahan.lower() )\n",
        "\n",
        "# Abaikan tanda baca, ambil huruf atau angka saja\n",
        "uud45_perubahan_tokens = [word for word in uud45_perubahan_tokens if word.isalnum()]"
      ],
      "execution_count": null,
      "outputs": [
        {
          "output_type": "stream",
          "text": [
            "PdfReadWarning: Xref table not zero-indexed. ID numbers for objects will be corrected. [pdf.py:1736]\n"
          ],
          "name": "stderr"
        }
      ]
    },
    {
      "cell_type": "code",
      "metadata": {
        "colab": {
          "base_uri": "https://localhost:8080/",
          "height": 324
        },
        "id": "gQsJ-YEcUr8g",
        "outputId": "efcd520a-772c-45d2-decf-50fa3c6e9ef7"
      },
      "source": [
        "# Hitung juga 10 kata teratasnya\n",
        "uud45_perubahan_freq = FreqDist(uud45_perubahan_tokens)\n",
        "uud45_perubahan_freq.plot(10)"
      ],
      "execution_count": null,
      "outputs": [
        {
          "output_type": "display_data",
          "data": {
            "image/png": "[encoded data removed]",
            "text/plain": [
              "<Figure size 432x288 with 1 Axes>"
            ]
          },
          "metadata": {
            "tags": [],
            "needs_background": "light"
          }
        }
      ]
    },
    {
      "cell_type": "markdown",
      "metadata": {
        "id": "Nv2LwnDsjCJk"
      },
      "source": [
        "Gunakan **ConditionalFreqDist** untuk menghitung jumlah kata dari beberapa topik/sumber."
      ]
    },
    {
      "cell_type": "code",
      "metadata": {
        "id": "Rqf9l7C_RsYa"
      },
      "source": [
        "from nltk import ConditionalFreqDist\n",
        "\n",
        "# Buat dictionary untuk mengarahkan uud45 sebelum dan sesudah amandemen\n",
        "uud45_dict = {\"sebelum\": uud45_tokens, \n",
        "              \"sesudah\": uud45_perubahan_tokens}\n",
        "\n",
        "# Sumber teks kita adalah uud45 sebelum dan sesudah amandemen\n",
        "conditions = [\"sebelum\", \"sesudah\"]\n",
        "\n",
        "# Kita buat format datanya menjadi tuple (sumber, kata)\n",
        "# yang mana setiap kata ditemani oleh sumber teksnya.\n",
        "# seperti (sebelum, dan), (sebelum, dasar), (sesudah, dasar),  dst.\n",
        "cfd = ConditionalFreqDist(\n",
        "    (uud, word) for uud in conditions\n",
        "                for word in uud45_dict[uud])"
      ],
      "execution_count": null,
      "outputs": []
    },
    {
      "cell_type": "code",
      "metadata": {
        "colab": {
          "base_uri": "https://localhost:8080/",
          "height": 364
        },
        "id": "wK7KYPeyTMyW",
        "outputId": "e1325f03-568a-4d6a-ded8-b111dbd2404a"
      },
      "source": [
        "# Tentukan sampel kata yang ingin dihitung\n",
        "# disini kita menggunakan 10 kata teratas dari uud45 sebelum amandemen.\n",
        "sample_words = [word for word, freq in uud45_freq.most_common(10)]\n",
        "\n",
        "# Tampilan baris dan kolom\n",
        "cfd.tabulate(samples=sample_words)\n",
        "\n",
        "# Tampilan grafik\n",
        "cfd.plot(samples=sample_words)"
      ],
      "execution_count": null,
      "outputs": [
        {
          "output_type": "stream",
          "text": [
            "             dan     yang   negara   rakyat   dengan      itu    pasal presiden    dalam    dasar \n",
            "sebelum      137      133      121       89       74       73       72       65       61       59 \n",
            "sesudah      260      113       95       98       87       19       75      112       64       29 \n"
          ],
          "name": "stdout"
        },
        {
          "output_type": "display_data",
          "data": {
            "image/png": "[encoded data removed]",
            "text/plain": [
              "<Figure size 432x288 with 1 Axes>"
            ]
          },
          "metadata": {
            "tags": [],
            "needs_background": "light"
          }
        }
      ]
    },
    {
      "cell_type": "markdown",
      "metadata": {
        "id": "XAGuWGDcX5HA"
      },
      "source": [
        "## 5.0 Mencari Pola dalam Teks\n",
        "Kita juga dapat secara spesifik mencari kata dengan pola tertentu. Pencarian pola biasanya digunakan untuk mendapatkan informasi mengenai kehadiran suatu kata, mencari kata dengan bentuk yang kompleks, mengubah format teks dsb.\n",
        "\n",
        "Tugas ini dapat dikerjakan oleh **Regular Expression** yang mana merupakan pola untuk mencocokkan kombinasi karakter dalam teks."
      ]
    },
    {
      "cell_type": "markdown",
      "metadata": {
        "id": "MvaZAQkGIVC0"
      },
      "source": [
        "### 5.1 Regular Expression: Mendeteksi kehadiran suatu kata."
      ]
    },
    {
      "cell_type": "code",
      "metadata": {
        "id": "C3gE4OWiF_Nn"
      },
      "source": [
        "import re\n",
        "sampel = \"Rakka Alhazimi, 11/01/1992, Pria, Kota Magelang\""
      ],
      "execution_count": null,
      "outputs": []
    },
    {
      "cell_type": "code",
      "metadata": {
        "colab": {
          "base_uri": "https://localhost:8080/"
        },
        "id": "6-xXnRiW2k7v",
        "outputId": "19280c18-8b1f-4317-b2c2-826bb035ebc8"
      },
      "source": [
        "nama = r\"^\\w+ \\w+\" # Dua kata di awal kalimat dengan batas satu spasi\n",
        "re.search(nama, sampel)"
      ],
      "execution_count": null,
      "outputs": [
        {
          "output_type": "execute_result",
          "data": {
            "text/plain": [
              "<re.Match object; span=(0, 14), match='Rakka Alhazimi'>"
            ]
          },
          "metadata": {
            "tags": []
          },
          "execution_count": 21
        }
      ]
    },
    {
      "cell_type": "code",
      "metadata": {
        "colab": {
          "base_uri": "https://localhost:8080/"
        },
        "id": "irfMnQuSMsV_",
        "outputId": "b14882a5-469b-44ae-82c8-2d47deb1193a"
      },
      "source": [
        "tanggal = r\"\\d+/\\d+/\\d+\" # Tiga kumpulan angka yang dibatasi tanda \"/\"\n",
        "re.search(tanggal, sampel)"
      ],
      "execution_count": null,
      "outputs": [
        {
          "output_type": "execute_result",
          "data": {
            "text/plain": [
              "<re.Match object; span=(16, 26), match='11/01/1992'>"
            ]
          },
          "metadata": {
            "tags": []
          },
          "execution_count": 22
        }
      ]
    },
    {
      "cell_type": "code",
      "metadata": {
        "colab": {
          "base_uri": "https://localhost:8080/"
        },
        "id": "g5he4KZCM2uD",
        "outputId": "96063c62-9c51-4fd4-b2a5-b3a3fe70d88b"
      },
      "source": [
        "jenis_kelamin = r\"[PW]\\w+a\" # Kata yang diawali \"P\" atau \"W\" dan diakhiri dengan \"a\"\n",
        "re.search(jenis_kelamin, sampel)"
      ],
      "execution_count": null,
      "outputs": [
        {
          "output_type": "execute_result",
          "data": {
            "text/plain": [
              "<re.Match object; span=(28, 32), match='Pria'>"
            ]
          },
          "metadata": {
            "tags": []
          },
          "execution_count": 23
        }
      ]
    },
    {
      "cell_type": "code",
      "metadata": {
        "colab": {
          "base_uri": "https://localhost:8080/"
        },
        "id": "XEm2dTc-Nc8Y",
        "outputId": "0fc7ed20-62ba-4f6d-dd6d-8ccf37bfe462"
      },
      "source": [
        "kota = r\"Kota \\w+\" # Kota <spasi> nama_kota\n",
        "re.search(kota, sampel)"
      ],
      "execution_count": null,
      "outputs": [
        {
          "output_type": "execute_result",
          "data": {
            "text/plain": [
              "<re.Match object; span=(34, 47), match='Kota Magelang'>"
            ]
          },
          "metadata": {
            "tags": []
          },
          "execution_count": 24
        }
      ]
    },
    {
      "cell_type": "markdown",
      "metadata": {
        "id": "RYGXHQjXKCZh"
      },
      "source": [
        "<h2>Sequence</h2>\n",
        "<img src=\"https://regexusingpython.files.wordpress.com/2019/04/0-1.png\" width=600>\n",
        "<h2>Character</h2>\n",
        "<img src=\"https://miro.medium.com/max/2964/1*hjsbL45MhT2Tw5DGAYoAUg.png\" width=600>"
      ]
    },
    {
      "cell_type": "markdown",
      "metadata": {
        "id": "Am7QmWxqNp_f"
      },
      "source": [
        "### 5.2 Regular Expression: Mengubah format pada teks."
      ]
    },
    {
      "cell_type": "code",
      "metadata": {
        "colab": {
          "base_uri": "https://localhost:8080/",
          "height": 35
        },
        "id": "ZLA5rsv5RGtZ",
        "outputId": "94d696cf-f4ac-43f1-f691-d6405888d645"
      },
      "source": [
        "contoh_nama = \"Rakka Alhazimi\" # format first_name last_name\n",
        "\n",
        "# Akan coba kita ubah ke format last_name first_name\n",
        "re.sub(r\"(\\w+) (\\w+)\", r\"\\2 \\1\", contoh_nama)"
      ],
      "execution_count": null,
      "outputs": [
        {
          "output_type": "execute_result",
          "data": {
            "application/vnd.google.colaboratory.intrinsic+json": {
              "type": "string"
            },
            "text/plain": [
              "'Alhazimi Rakka'"
            ]
          },
          "metadata": {
            "tags": []
          },
          "execution_count": 25
        }
      ]
    },
    {
      "cell_type": "code",
      "metadata": {
        "id": "oIFT-Fd1Npbq",
        "colab": {
          "base_uri": "https://localhost:8080/",
          "height": 35
        },
        "outputId": "3a4e0ad6-6f15-428d-f56f-ff87bee54094"
      },
      "source": [
        "contoh_tanggal = \"06/06/2021\" # format dd/mm/yyyy\n",
        "\n",
        "# Akan coba kita ubah ke format mm/dd/yyyy\n",
        "re.sub(r\"(\\d+)/(\\d+)/(\\d+)\", r\"\\2/\\1/\\3\", contoh_tanggal)"
      ],
      "execution_count": null,
      "outputs": [
        {
          "output_type": "execute_result",
          "data": {
            "application/vnd.google.colaboratory.intrinsic+json": {
              "type": "string"
            },
            "text/plain": [
              "'06/06/2021'"
            ]
          },
          "metadata": {
            "tags": []
          },
          "execution_count": 69
        }
      ]
    },
    {
      "cell_type": "markdown",
      "metadata": {
        "id": "qYsQbcNctlUq"
      },
      "source": [
        "### 5.3 Regular Expression: Mencari imbuhan kata "
      ]
    },
    {
      "cell_type": "code",
      "metadata": {
        "colab": {
          "base_uri": "https://localhost:8080/"
        },
        "id": "oG2CGWZvttJB",
        "outputId": "4e265365-1b91-42fa-d7fd-47b51f18eab8"
      },
      "source": [
        "# Mencari kata dengan awalan (prefiks) di-\n",
        "prefiks = re.findall(r\"\\bdi\\w+\", uud45_clean)[:10] # tampilkan 10 saja\n",
        "prefiks"
      ],
      "execution_count": null,
      "outputs": [
        {
          "output_type": "execute_result",
          "data": {
            "text/plain": [
              "['diatas',\n",
              " 'dihapuskan',\n",
              " 'didorongkan',\n",
              " 'disusunlah',\n",
              " 'dipimpin',\n",
              " 'dilakukan',\n",
              " 'ditambah',\n",
              " 'ditetapkan',\n",
              " 'ditetapkan',\n",
              " 'dibantu']"
            ]
          },
          "metadata": {
            "tags": []
          },
          "execution_count": 56
        }
      ]
    },
    {
      "cell_type": "code",
      "metadata": {
        "colab": {
          "base_uri": "https://localhost:8080/"
        },
        "id": "FUk0x-rWvgpa",
        "outputId": "9f63f458-cc9f-4d41-a92a-95b69fc35dee"
      },
      "source": [
        "# Mencari kata dengan konfiks (awalan dan akhiran) ke-an\n",
        "konfiks = re.findall(r\"\\bke\\w+an\", uud45_clean)[:10]\n",
        "konfiks"
      ],
      "execution_count": null,
      "outputs": [
        {
          "output_type": "execute_result",
          "data": {
            "text/plain": [
              "['kemerdekaan',\n",
              " 'kemerdekaan',\n",
              " 'kemerdekaan',\n",
              " 'keinginan',\n",
              " 'kebangsaan',\n",
              " 'kemerdekaan',\n",
              " 'kesejahteraan',\n",
              " 'kehidupan',\n",
              " 'ketertiban',\n",
              " 'kemerdekaan']"
            ]
          },
          "metadata": {
            "tags": []
          },
          "execution_count": 57
        }
      ]
    },
    {
      "cell_type": "code",
      "metadata": {
        "colab": {
          "base_uri": "https://localhost:8080/"
        },
        "id": "hRaYfbkWwHD6",
        "outputId": "53092b94-eaed-4bc7-b492-8a1eb24d577f"
      },
      "source": [
        "# Mencari kata dengan suffiks (akhiran) -or\n",
        "suffiks = re.findall(r\"\\b\\w+or\\b\", uud45_clean)[:10]\n",
        "suffiks"
      ],
      "execution_count": null,
      "outputs": [
        {
          "output_type": "execute_result",
          "data": {
            "text/plain": [
              "['diktator']"
            ]
          },
          "metadata": {
            "tags": []
          },
          "execution_count": 67
        }
      ]
    },
    {
      "cell_type": "markdown",
      "metadata": {
        "id": "Zd6T241KoQ0L"
      },
      "source": [
        "## 6.0 Klasifikasi Teks\n",
        "Klasifikasi teks merupakan task dalam NLP yang menggunakan model machine learning untuk melakukan prediksi (forecasting). \n",
        "\n",
        "Prediksi disini dilakukan sesuai dengan masalah yang ingin diselesaikan. \n",
        "\n",
        "Contoh klasifikasi teks antara lain:\n",
        "1. Menentukan apakah email yang masuk merupakan spam atau bukan spam.\n",
        "2. Menentukan apakah ulasan konsumen/pelanggan memiliki sentimen negatif atau positif.\n",
        "3. Mendeteksi berita asli dan berita bohong.\n",
        "4. dsb."
      ]
    },
    {
      "cell_type": "markdown",
      "metadata": {
        "id": "pb5vHql8Onwa"
      },
      "source": [
        "###6.1 Machine Learning\n",
        "\n",
        "Singkatnya, machine learning adalah proses untuk membuat program menggunakan data.\n",
        "\n",
        "Machine learning merupakan bidang penelitian yang bersifat multidisiplin yang mana merupakan perpaduan antara studi statistik, kecerdasan buatan dan ilmu komputer."
      ]
    },
    {
      "cell_type": "markdown",
      "metadata": {
        "id": "UzDMJUGDOb4x"
      },
      "source": [
        "###6.2 Memahami Machine Learning\n",
        "\n",
        "Paradigma Pemrograman yang biasa kita lakukan adalah memasukkan aturan (program) dan data untuk mendapat hasil yang kita inginkan. Seperti yang kita lakukan tadi.\n",
        "\n",
        "<img src=\"https://2.bp.blogspot.com/-fOIxXudK4pc/WmczZVuPWhI/AAAAAAAAC2g/m9me0o64h2sXP4DyiEpcAsLol5DW2SxWACLcBGAs/s1600/1.2.png\">\n",
        "\n",
        "Paradigma machine learning memiliki cara yang berbeda yaitu memasukkan data dan hasil untuk mendapatkan aturan-nya, aturan yang mengikat data dan hasil (input dan output).\n",
        "\n",
        "Lebih jelasnya, ***di machine learning, kita melatih komputer untuk menjalankan sebuah tugas***. \n",
        "\n",
        "Sedangkan **di pemrograman klasik, kita menulis perintah yang akan komputer jalankan.**"
      ]
    },
    {
      "cell_type": "markdown",
      "metadata": {
        "id": "t2SQCLZLOg6L"
      },
      "source": [
        "###6.3 Bagaimana komputer bisa memahami data?\n",
        "\n",
        "Komputer mengingat struktur statistik dalam data. Seperti halnya manusia yang menyadari sesuatu yang pernah dia lihat.\n",
        "\n",
        "Contoh: \n",
        "Kita kerap melihat kalau berita bohong sering menggunakan clickbait. Di waktu yang akan datang ketika kita melihat berita dengan clickbait, kemungkinan besar kita berpikir bahwa itu juga berita bohong.\n",
        "\n",
        "Komputer juga melakukan hal yang sama, namun lebih detail lagi."
      ]
    },
    {
      "cell_type": "markdown",
      "metadata": {
        "id": "uDesrB1UBlTu"
      },
      "source": [
        "### 6.4 Langkah-langkah dalam machine learning\n",
        "1. Tentukan dulu masalah yang ingin diselesaikan. Misal kita ingin mengetahui email yang spam dan yang bukan spam.\n",
        "\n",
        "2. Kedua, tentukan tipe masalah yang akan kita hadapi apakah binary classification? multiclass classification? scalar regression? atau clustering?. Masalah yang kita hadapi adalah binary classification, mengklasifikasikan teks menjadi dua grup yang berbeda yaitu spam dan bukan spam.\n",
        "\n",
        "3. Ketiga, tentukan data input dan data outputnya. Di kasus ini, data inputnya adalah email spam dan bukan spam, sedangkan data outputnya adalah label penanda spam dan bukan spam (0: bukan spam, 1: spam).\n",
        "\n",
        "3. Keempat, tentukan learning algorithm-nya. Beberapa algoritma belajar untuk binary classification adalah logistic regression, naive bayes, decision-tree, support vector machine dll. Pada materi ini kita memilih algoritma naive bayes yang terbilang sederhana. "
      ]
    },
    {
      "cell_type": "markdown",
      "metadata": {
        "id": "H1RF8s-022Ar"
      },
      "source": [
        "### 6.5 Klasifikasi Email Spam dan Bukan Spam"
      ]
    },
    {
      "cell_type": "code",
      "metadata": {
        "id": "twRYbsm6Rree"
      },
      "source": [
        ""
      ],
      "execution_count": null,
      "outputs": []
    }
  ]
}